{
  "nbformat": 4,
  "nbformat_minor": 0,
  "metadata": {
    "colab": {
      "provenance": [],
      "authorship_tag": "ABX9TyMYTWBIfwlpPIY95lr3lu2E",
      "include_colab_link": true
    },
    "kernelspec": {
      "name": "python3",
      "display_name": "Python 3"
    },
    "language_info": {
      "name": "python"
    }
  },
  "cells": [
    {
      "cell_type": "markdown",
      "metadata": {
        "id": "view-in-github",
        "colab_type": "text"
      },
      "source": [
        "<a href=\"https://colab.research.google.com/github/NaydelinAidee/Investigaci-n-de-Operaciones-Nay/blob/main/Investigaci%C3%B3nOperaciones(Networkx).ipynb\" target=\"_parent\"><img src=\"https://colab.research.google.com/assets/colab-badge.svg\" alt=\"Open In Colab\"/></a>"
      ]
    },
    {
      "cell_type": "markdown",
      "source": [
        "# **MODELO DE REDES**\n",
        "Naydelin Aidee Carcamo Hernandez"
      ],
      "metadata": {
        "id": "XkaAfRWxcb_J"
      }
    },
    {
      "cell_type": "markdown",
      "source": [
        "Un modelo de red es un tipo de modelo de base de datos que representa datos y sus relaciones de forma flexible, como un grafo donde los objetos son nodos y las relaciones son arcos."
      ],
      "metadata": {
        "id": "g9Ij_vm_fhIz"
      }
    },
    {
      "cell_type": "markdown",
      "source": [
        "Para poder trabajar con modelo de redes existe NetworkX que  en Python sirve para crear, manipular, analizar y visualizar **grafos** y **redes** **complejas**. Es una herramienta fundamental para modelar y estudiar estructuras como redes sociales, biológicas o de infraestructura, facilitando la implementación de algoritmos de **análisis** **de** **grafos**, la adición de atributos a nodos y aristas, y la exportación de datos en diversos formatos.\n",
        "\n",
        "\n",
        "**Funciones** **principales** **de** **NetworkX**:\n",
        "\n",
        "〰️Creación de grafos:\n",
        "Permite construir grafos de forma programática, añadiendo nodos y aristas de manera individual o desde iterables.\n",
        "〰️Manipulación de grafos:\n",
        "Se pueden agregar y eliminar nodos y aristas, así como adjuntar atributos como pesos, etiquetas o colores a los elementos del grafo.\n",
        "\n",
        "〰️Análisis de redes:\n",
        "Ofrece una amplia gama de algoritmos para analizar la estructura y dinámica de las redes, incluyendo algoritmos para encontrar caminos más cortos.\n",
        "\n",
        "〰️Visualización de grafos:\n",
        "Se integra con bibliotecas como Matplotlib para visualizar los grafos de manera flexible y personalizable, permitiendo aplicar diferentes algoritmos de diseño para posicionar los nodos."
      ],
      "metadata": {
        "id": "BmAv7uWfhUZg"
      }
    },
    {
      "cell_type": "markdown",
      "source": [
        "**Veamos un poco de lo que nos permite hacer esta libreria para nuestro analisis de modelos de redes.**"
      ],
      "metadata": {
        "id": "IHOcjIVdi1Oe"
      }
    },
    {
      "cell_type": "markdown",
      "source": [
        "# Crear Graficos\n",
        "\n",
        "〰️Podemos crear graficos vacios sin nodos ni aristas,veamos como\n",
        "podemos hacerlo."
      ],
      "metadata": {
        "id": "AGqpnN4jjCo8"
      }
    },
    {
      "cell_type": "code",
      "source": [
        "import networkx as nx\n",
        "G = nx.Graph()#Un nodo Graph es una coleccion de nodos junto con aristas,enlaces,etc."
      ],
      "metadata": {
        "id": "A5ckk-K2C3Mi"
      },
      "execution_count": null,
      "outputs": []
    },
    {
      "cell_type": "markdown",
      "source": [
        "#Nodos"
      ],
      "metadata": {
        "id": "rlGYeeLXDchC"
      }
    },
    {
      "cell_type": "markdown",
      "source": [
        "Ahora hablemos de nodos,aqui podemos usar el grafo G que contiene bases para leer y escribir grafos."
      ],
      "metadata": {
        "id": "g3gASsGkC8n7"
      }
    },
    {
      "cell_type": "markdown",
      "source": [
        "Aqui podemos ir agregando de a un nodo a la vez. **add_node(1)**"
      ],
      "metadata": {
        "id": "9W60xcTBEkHF"
      }
    },
    {
      "cell_type": "code",
      "source": [
        "G.add_node(1)"
      ],
      "metadata": {
        "id": "ehIDRFZXEqMn"
      },
      "execution_count": null,
      "outputs": []
    },
    {
      "cell_type": "markdown",
      "source": [
        "Aqui podemos agregar una lista de nodos. **add_nodes_from([lista])**"
      ],
      "metadata": {
        "id": "T50SpB2HFQfJ"
      }
    },
    {
      "cell_type": "code",
      "source": [
        "G.add_nodes_from([2, 3, 4])"
      ],
      "metadata": {
        "id": "n7FV0CEMFQ7f"
      },
      "execution_count": null,
      "outputs": []
    },
    {
      "cell_type": "markdown",
      "source": [
        "Veamos que de esta forma podemos agregar aristas o sea nuestras conecciones. **add_edge(nodos a conectar)**"
      ],
      "metadata": {
        "id": "OA6VRDz8FZ__"
      }
    },
    {
      "cell_type": "code",
      "source": [
        "G.add_edge(1, 2)"
      ],
      "metadata": {
        "id": "0Gz-G9aOFiRJ"
      },
      "execution_count": null,
      "outputs": []
    },
    {
      "cell_type": "markdown",
      "source": [
        "Aqui podemos agregar una lista de aristas."
      ],
      "metadata": {
        "id": "cSVrPd_UGKrE"
      }
    },
    {
      "cell_type": "code",
      "source": [
        "G.add_edges_from([(1, 3), (2, 4), (3, 4)]) # Agrega una lista de aristas"
      ],
      "metadata": {
        "id": "pSlxSHsfGQOS"
      },
      "execution_count": null,
      "outputs": []
    },
    {
      "cell_type": "markdown",
      "source": [
        "Ahora veamos que podemos ir agregando múltiples nodos a la vez: La función add_nodes_from() se usa para añadir varios nodos a un grafo (que en este caso se llama G).\n",
        "\n",
        "Añadiendo atributos a los nodos: A diferencia de simplemente agregar un número, aquí estamos agregando información extra a cada nodo. A esta información se le llama atributo.\n",
        "\n",
        "El primer elemento (4, {\"color\": \"red\"}) crea un nodo con el número 4 y le asigna un atributo llamado \"color\" con el valor \"red\".\n",
        "\n",
        "El segundo elemento (5, {\"color\": \"green\"}) crea un nodo con el número 5 y le asigna un atributo \"color\" con el valor \"green\"."
      ],
      "metadata": {
        "id": "GRANi1_CHc-N"
      }
    },
    {
      "cell_type": "code",
      "source": [
        "G.add_nodes_from([(4, {\"color\": \"red\"}), (5, {\"color\": \"green\"})])"
      ],
      "metadata": {
        "id": "ZZ7ax5RgHfEe"
      },
      "execution_count": null,
      "outputs": []
    },
    {
      "cell_type": "markdown",
      "source": [
        "Tambien podemos poner nodos de un grafico a otro es decir G contiene los nodos de H como nodos de G. ahora, podemos usar el gráfico H como un nodo en G."
      ],
      "metadata": {
        "id": "OKQA5NKbH2Fq"
      }
    },
    {
      "cell_type": "code",
      "source": [
        "H = nx.path_graph(10)\n",
        "G.add_nodes_from(H)"
      ],
      "metadata": {
        "id": "25A0SFD6ICtk"
      },
      "execution_count": null,
      "outputs": []
    },
    {
      "cell_type": "markdown",
      "source": [
        "El grafo G contiene H un nodo"
      ],
      "metadata": {
        "id": "CcsUlcONIxto"
      }
    },
    {
      "cell_type": "code",
      "source": [
        "G.add_node(H)"
      ],
      "metadata": {
        "id": "h5KE6pGpIyCL"
      },
      "execution_count": null,
      "outputs": []
    },
    {
      "cell_type": "markdown",
      "source": [
        "Para ver cómo se ve nuestro grafo, podemos imprimir los nodos y aristas que acabamos de agregar."
      ],
      "metadata": {
        "id": "f2FHjafjGchA"
      }
    },
    {
      "cell_type": "code",
      "source": [
        "# Imprime los nodos y aristas del grafo\n",
        "print(\"Nodos:\", G.nodes())\n",
        "print(\"Aristas:\", G.edges())"
      ],
      "metadata": {
        "colab": {
          "base_uri": "https://localhost:8080/"
        },
        "id": "7vavUhmCGi0H",
        "outputId": "a6e46263-64b2-4f58-b356-569b9cd57704"
      },
      "execution_count": null,
      "outputs": [
        {
          "output_type": "stream",
          "name": "stdout",
          "text": [
            "Nodos: [1, 2, 3, 4, 5, 0, 6, 7, 8, 9, <networkx.classes.graph.Graph object at 0x7b46d8ad5d00>]\n",
            "Aristas: [(1, 2), (1, 3), (2, 4), (3, 4)]\n"
          ]
        }
      ]
    },
    {
      "cell_type": "markdown",
      "source": [
        "# Bordes"
      ],
      "metadata": {
        "id": "mgXSGQAnJJQ8"
      }
    },
    {
      "cell_type": "markdown",
      "source": [],
      "metadata": {
        "id": "UifNzZwvOlPx"
      }
    },
    {
      "cell_type": "markdown",
      "source": [
        "Los bordes, también llamados aristas, son las líneas que conectan los nodos en un grafo. Representan las relaciones o interacciones entre los objetos que los nodos representan. Hay varias formas de agregar bordes en NetworkX."
      ],
      "metadata": {
        "id": "nxaWDJxzJMb0"
      }
    },
    {
      "cell_type": "markdown",
      "source": [
        "Veamos que  G.add_edge(*e) es una forma de **agregar un borde entre los nodos** 2 y 3 sin escribir los números explícitamente en la función."
      ],
      "metadata": {
        "id": "ao0UH0kkOdgZ"
      }
    },
    {
      "cell_type": "code",
      "source": [
        "G.add_edge(1, 2)\n",
        "e = (2, 3)\n",
        "G.add_edge(*e)  # unpack edge tuple* o sea desempaqueta la tupla"
      ],
      "metadata": {
        "id": "Wy7D-6M-Jsma"
      },
      "execution_count": null,
      "outputs": []
    },
    {
      "cell_type": "markdown",
      "source": [
        "Podemos tambien agregar una **lista de aristas**,asi como lo hicimos con los nodos."
      ],
      "metadata": {
        "id": "eeCp6snHOpzq"
      }
    },
    {
      "cell_type": "code",
      "source": [
        "G.add_edges_from([(1, 2), (1, 3)])"
      ],
      "metadata": {
        "id": "RELUQHM9OznC"
      },
      "execution_count": null,
      "outputs": []
    },
    {
      "cell_type": "markdown",
      "source": [
        "Veamos ahora que si tenemos un grafo H con ciertas conexiones y queremos que el grafo G tenga exactamente las mismas, esta es la forma más rápida de hacerlo. Es como hacer un \"copiar y pegar\" de las conexiones de un grafo a otro."
      ],
      "metadata": {
        "id": "yrNoq_SyPJVI"
      }
    },
    {
      "cell_type": "code",
      "source": [
        "G.add_edges_from(H.edges)"
      ],
      "metadata": {
        "id": "zp6sOnvNRg2e"
      },
      "execution_count": null,
      "outputs": []
    },
    {
      "cell_type": "markdown",
      "source": [
        "Ahora podemos ver una forma facil  para vaciar un grafo por completo."
      ],
      "metadata": {
        "id": "xhhKtxUFRuRJ"
      }
    },
    {
      "cell_type": "code",
      "source": [
        "G.clear()"
      ],
      "metadata": {
        "id": "4ZDlUmbeR7sS"
      },
      "execution_count": null,
      "outputs": []
    },
    {
      "cell_type": "markdown",
      "source": [
        "Aqui creamos un objeto de **grafo dirigido**. A diferencia de un grafo normal, en un grafo dirigido las conexiones (bordes) tienen una dirección. Un borde de A a B no es lo mismo que un borde de B a A."
      ],
      "metadata": {
        "id": "v9DsFYmh6m69"
      }
    },
    {
      "cell_type": "code",
      "source": [
        "DG = nx.DiGraph()"
      ],
      "metadata": {
        "id": "msyU8fuC6yEo"
      },
      "execution_count": null,
      "outputs": []
    },
    {
      "cell_type": "markdown",
      "source": [
        "Agregamos un borde que va del nodo 2 al nodo 1. El nodo 2 es el origen y el nodo 1 es el destino."
      ],
      "metadata": {
        "id": "X81V09Jm67Vm"
      }
    },
    {
      "cell_type": "code",
      "source": [
        "DG.add_edge(2, 1)"
      ],
      "metadata": {
        "id": "w3_ZEXj868SP"
      },
      "execution_count": null,
      "outputs": []
    },
    {
      "cell_type": "markdown",
      "source": [
        "Se agrega un borde del nodo 1 al 3"
      ],
      "metadata": {
        "id": "wD09NjUm7CCU"
      }
    },
    {
      "cell_type": "code",
      "source": [
        "DG.add_edge(1, 3)"
      ],
      "metadata": {
        "id": "M5bbQW0A7CVy"
      },
      "execution_count": null,
      "outputs": []
    },
    {
      "cell_type": "markdown",
      "source": [
        "Se agrega un borde del nodo 2 al 4"
      ],
      "metadata": {
        "id": "YWFqNTFK7Ldf"
      }
    },
    {
      "cell_type": "code",
      "source": [
        "DG.add_edge(2, 4)"
      ],
      "metadata": {
        "id": "IKmeTx-X7RuQ"
      },
      "execution_count": null,
      "outputs": []
    },
    {
      "cell_type": "markdown",
      "source": [
        "Se agrega un borde del nodo 1 al 2"
      ],
      "metadata": {
        "id": "sf2FJjBC7W3U"
      }
    },
    {
      "cell_type": "code",
      "source": [
        "DG.add_edge(1, 2)"
      ],
      "metadata": {
        "id": "tK8ZUlCp7XN-"
      },
      "execution_count": null,
      "outputs": []
    },
    {
      "cell_type": "markdown",
      "source": [
        " la palabra clave assert para verificar si el grafo es como se espera que sea. Si las condiciones dentro de assert son falsas, el programa se detiene con un error.\n",
        "\n",
        " DG.successors(2): Esta función te da una lista de todos los nodos a los que el nodo 2 se conecta.\n",
        "\n",
        "En el código, agregaste los bordes (2, 1) y (2, 4).\n",
        "\n",
        "Por lo tanto, los sucesores del nodo 2 son 1 y 4. La condición es verdadera y el programa continúa"
      ],
      "metadata": {
        "id": "kje-7dj47mLQ"
      }
    },
    {
      "cell_type": "code",
      "source": [
        "assert list(DG.successors(2)) == [1, 4]"
      ],
      "metadata": {
        "id": "-XjY3I5P7p1H"
      },
      "execution_count": null,
      "outputs": []
    },
    {
      "cell_type": "markdown",
      "source": [
        "list(DG.edges): Esta función te da una lista de todos los bordes en el grafo, en el orden en que fueron creados.\n",
        "\n",
        "El orden es importante en un grafo dirigido. El borde (2, 1) es diferente al borde (1, 2).\n",
        "\n",
        "La lista generada [(2, 1), (2, 4), (1, 3), (1, 2)] coincide con la lista que se está probando, por lo que la condición es verdadera y el código no se detiene"
      ],
      "metadata": {
        "id": "L3hSI6YP7xOz"
      }
    },
    {
      "cell_type": "code",
      "source": [
        "assert list(DG.edges) == [(2, 1), (2, 4), (1, 3), (1, 2)]"
      ],
      "metadata": {
        "id": "FvS1Lya-7yBD"
      },
      "execution_count": null,
      "outputs": []
    },
    {
      "cell_type": "markdown",
      "source": [
        "# Eliminar elementos\n"
      ],
      "metadata": {
        "id": "QxL0Mj_18DrW"
      }
    },
    {
      "cell_type": "markdown",
      "source": [
        "Podemos examinar los nodos y las aristas. Cuatro propiedades básicas de grafos facilitan la generación de informes: G.nodes, G.edges, G.adjy G.degree."
      ],
      "metadata": {
        "id": "CiTzjaEj8OyE"
      }
    },
    {
      "cell_type": "markdown",
      "source": [
        "veamos como podemos obtener informacion basica acerca del grafo."
      ],
      "metadata": {
        "id": "yQ8DYWGL89CC"
      }
    },
    {
      "cell_type": "markdown",
      "source": [
        "LISTAR NODOS Y BORDES"
      ],
      "metadata": {
        "id": "opStG88H9IB9"
      }
    },
    {
      "cell_type": "markdown",
      "source": [
        "Este comando devuelve una lista con todos los nodos del grafo. Los nodos son los puntos del grafo."
      ],
      "metadata": {
        "id": "fYbLjwmL9hhy"
      }
    },
    {
      "cell_type": "code",
      "source": [
        "list(G.nodes)"
      ],
      "metadata": {
        "colab": {
          "base_uri": "https://localhost:8080/"
        },
        "id": "FekVhZPp9iGO",
        "outputId": "592a3a13-8df8-4947-b845-d94fbdde0a9c"
      },
      "execution_count": null,
      "outputs": [
        {
          "output_type": "execute_result",
          "data": {
            "text/plain": [
              "[]"
            ]
          },
          "metadata": {},
          "execution_count": 24
        }
      ]
    },
    {
      "cell_type": "markdown",
      "source": [
        "De manera similar, este comando te muestra una lista con todos los bordes o aristas del grafo. Un borde se representa como una tupla que conecta dos nodos."
      ],
      "metadata": {
        "id": "S-gxfEz29k-m"
      }
    },
    {
      "cell_type": "code",
      "source": [
        "list(G.edges)"
      ],
      "metadata": {
        "colab": {
          "base_uri": "https://localhost:8080/"
        },
        "id": "gvYwvBRf9qeq",
        "outputId": "83d5813d-51aa-4a1f-f9d5-c54681fb7548"
      },
      "execution_count": null,
      "outputs": [
        {
          "output_type": "execute_result",
          "data": {
            "text/plain": [
              "[]"
            ]
          },
          "metadata": {},
          "execution_count": 28
        }
      ]
    },
    {
      "cell_type": "markdown",
      "source": [
        "OBTENER INFORMACION ESPECIFICA DEL GRAFO"
      ],
      "metadata": {
        "id": "UTex7KDF-sce"
      }
    },
    {
      "cell_type": "markdown",
      "source": [
        "G.adj es la abreviatura de \"adyacencia\", y es una forma común de acceder a los nodos conectados.\n",
        "\n",
        "G.neighbors() es una función que hace exactamente lo mismo."
      ],
      "metadata": {
        "id": "EGeBMWHP-6rq"
      }
    },
    {
      "cell_type": "code",
      "source": [
        "list(G.adj[1])  # or list(G.neighbors(1))"
      ],
      "metadata": {
        "colab": {
          "base_uri": "https://localhost:8080/",
          "height": 258
        },
        "id": "HVQH0ky4_Hmx",
        "outputId": "afe9612f-dab2-466b-c013-cef655bb1ecf"
      },
      "execution_count": null,
      "outputs": [
        {
          "output_type": "error",
          "ename": "KeyError",
          "evalue": "1",
          "traceback": [
            "\u001b[0;31m---------------------------------------------------------------------------\u001b[0m",
            "\u001b[0;31mKeyError\u001b[0m                                  Traceback (most recent call last)",
            "\u001b[0;32m/tmp/ipython-input-73148878.py\u001b[0m in \u001b[0;36m<cell line: 0>\u001b[0;34m()\u001b[0m\n\u001b[0;32m----> 1\u001b[0;31m \u001b[0mlist\u001b[0m\u001b[0;34m(\u001b[0m\u001b[0mG\u001b[0m\u001b[0;34m.\u001b[0m\u001b[0madj\u001b[0m\u001b[0;34m[\u001b[0m\u001b[0;36m1\u001b[0m\u001b[0;34m]\u001b[0m\u001b[0;34m)\u001b[0m  \u001b[0;31m# or list(G.neighbors(1))\u001b[0m\u001b[0;34m\u001b[0m\u001b[0;34m\u001b[0m\u001b[0m\n\u001b[0m",
            "\u001b[0;32m/usr/local/lib/python3.12/dist-packages/networkx/classes/coreviews.py\u001b[0m in \u001b[0;36m__getitem__\u001b[0;34m(self, name)\u001b[0m\n\u001b[1;32m     80\u001b[0m \u001b[0;34m\u001b[0m\u001b[0m\n\u001b[1;32m     81\u001b[0m     \u001b[0;32mdef\u001b[0m \u001b[0m__getitem__\u001b[0m\u001b[0;34m(\u001b[0m\u001b[0mself\u001b[0m\u001b[0;34m,\u001b[0m \u001b[0mname\u001b[0m\u001b[0;34m)\u001b[0m\u001b[0;34m:\u001b[0m\u001b[0;34m\u001b[0m\u001b[0;34m\u001b[0m\u001b[0m\n\u001b[0;32m---> 82\u001b[0;31m         \u001b[0;32mreturn\u001b[0m \u001b[0mAtlasView\u001b[0m\u001b[0;34m(\u001b[0m\u001b[0mself\u001b[0m\u001b[0;34m.\u001b[0m\u001b[0m_atlas\u001b[0m\u001b[0;34m[\u001b[0m\u001b[0mname\u001b[0m\u001b[0;34m]\u001b[0m\u001b[0;34m)\u001b[0m\u001b[0;34m\u001b[0m\u001b[0;34m\u001b[0m\u001b[0m\n\u001b[0m\u001b[1;32m     83\u001b[0m \u001b[0;34m\u001b[0m\u001b[0m\n\u001b[1;32m     84\u001b[0m     \u001b[0;32mdef\u001b[0m \u001b[0mcopy\u001b[0m\u001b[0;34m(\u001b[0m\u001b[0mself\u001b[0m\u001b[0;34m)\u001b[0m\u001b[0;34m:\u001b[0m\u001b[0;34m\u001b[0m\u001b[0;34m\u001b[0m\u001b[0m\n",
            "\u001b[0;31mKeyError\u001b[0m: 1"
          ]
        }
      ]
    },
    {
      "cell_type": "markdown",
      "source": [
        "G.degree[1]: Esto te da el grado del nodo 1. El grado es el número total de bordes que están conectados a un nodo. En este caso, el nodo 1 tiene un borde que lo conecta al 2 y otro al 3. Como tiene dos conexiones, su grado es 2, que es lo que muestra la salida."
      ],
      "metadata": {
        "id": "GaU57MfH_0MS"
      }
    },
    {
      "cell_type": "code",
      "source": [
        "G.degree[1]"
      ],
      "metadata": {
        "colab": {
          "base_uri": "https://localhost:8080/",
          "height": 258
        },
        "id": "Ee8-gVoU_7gA",
        "outputId": "de1d5719-dfef-4154-ff40-3dff30c918d8"
      },
      "execution_count": null,
      "outputs": [
        {
          "output_type": "error",
          "ename": "KeyError",
          "evalue": "1",
          "traceback": [
            "\u001b[0;31m---------------------------------------------------------------------------\u001b[0m",
            "\u001b[0;31mKeyError\u001b[0m                                  Traceback (most recent call last)",
            "\u001b[0;32m/tmp/ipython-input-623240209.py\u001b[0m in \u001b[0;36m<cell line: 0>\u001b[0;34m()\u001b[0m\n\u001b[0;32m----> 1\u001b[0;31m \u001b[0mG\u001b[0m\u001b[0;34m.\u001b[0m\u001b[0mdegree\u001b[0m\u001b[0;34m[\u001b[0m\u001b[0;36m1\u001b[0m\u001b[0;34m]\u001b[0m\u001b[0;34m\u001b[0m\u001b[0;34m\u001b[0m\u001b[0m\n\u001b[0m",
            "\u001b[0;32m/usr/local/lib/python3.12/dist-packages/networkx/classes/reportviews.py\u001b[0m in \u001b[0;36m__getitem__\u001b[0;34m(self, n)\u001b[0m\n\u001b[1;32m    522\u001b[0m     \u001b[0;32mdef\u001b[0m \u001b[0m__getitem__\u001b[0m\u001b[0;34m(\u001b[0m\u001b[0mself\u001b[0m\u001b[0;34m,\u001b[0m \u001b[0mn\u001b[0m\u001b[0;34m)\u001b[0m\u001b[0;34m:\u001b[0m\u001b[0;34m\u001b[0m\u001b[0;34m\u001b[0m\u001b[0m\n\u001b[1;32m    523\u001b[0m         \u001b[0mweight\u001b[0m \u001b[0;34m=\u001b[0m \u001b[0mself\u001b[0m\u001b[0;34m.\u001b[0m\u001b[0m_weight\u001b[0m\u001b[0;34m\u001b[0m\u001b[0;34m\u001b[0m\u001b[0m\n\u001b[0;32m--> 524\u001b[0;31m         \u001b[0mnbrs\u001b[0m \u001b[0;34m=\u001b[0m \u001b[0mself\u001b[0m\u001b[0;34m.\u001b[0m\u001b[0m_succ\u001b[0m\u001b[0;34m[\u001b[0m\u001b[0mn\u001b[0m\u001b[0;34m]\u001b[0m\u001b[0;34m\u001b[0m\u001b[0;34m\u001b[0m\u001b[0m\n\u001b[0m\u001b[1;32m    525\u001b[0m         \u001b[0;32mif\u001b[0m \u001b[0mweight\u001b[0m \u001b[0;32mis\u001b[0m \u001b[0;32mNone\u001b[0m\u001b[0;34m:\u001b[0m\u001b[0;34m\u001b[0m\u001b[0;34m\u001b[0m\u001b[0m\n\u001b[1;32m    526\u001b[0m             \u001b[0;32mreturn\u001b[0m \u001b[0mlen\u001b[0m\u001b[0;34m(\u001b[0m\u001b[0mnbrs\u001b[0m\u001b[0;34m)\u001b[0m \u001b[0;34m+\u001b[0m \u001b[0;34m(\u001b[0m\u001b[0mn\u001b[0m \u001b[0;32min\u001b[0m \u001b[0mnbrs\u001b[0m\u001b[0;34m)\u001b[0m\u001b[0;34m\u001b[0m\u001b[0;34m\u001b[0m\u001b[0m\n",
            "\u001b[0;31mKeyError\u001b[0m: 1"
          ]
        }
      ]
    },
    {
      "cell_type": "markdown",
      "source": [
        "G.edges([2, 'm'])\n",
        "\n",
        "Esta línea te pide los bordes conectados a un conjunto de nodos específico"
      ],
      "metadata": {
        "id": "FdQVs7X7AK-3"
      }
    },
    {
      "cell_type": "code",
      "source": [
        "G.edges([2, 'm'])"
      ],
      "metadata": {
        "colab": {
          "base_uri": "https://localhost:8080/"
        },
        "id": "QiAM9taNA7LG",
        "outputId": "a7d56c9c-1b48-466d-d741-f4fc1f89607a"
      },
      "execution_count": null,
      "outputs": [
        {
          "output_type": "execute_result",
          "data": {
            "text/plain": [
              "EdgeDataView([])"
            ]
          },
          "metadata": {},
          "execution_count": 32
        }
      ]
    },
    {
      "cell_type": "markdown",
      "source": [
        "G.degree([2, 3])\n",
        "\n",
        "Esta línea te da el grado de varios nodos a la vez. El grado es la cantidad de bordes que tiene un nodo.\n",
        "\n",
        "\n",
        "El grado del nodo 2 es 1.\n",
        "\n",
        "El grado del nodo 3 es 2."
      ],
      "metadata": {
        "id": "yn9NVl5JA9Hc"
      }
    },
    {
      "cell_type": "code",
      "source": [
        "G.degree([2, 3])"
      ],
      "metadata": {
        "colab": {
          "base_uri": "https://localhost:8080/"
        },
        "id": "h_PqTIIyBIwQ",
        "outputId": "da043166-d56e-4418-a764-46abf3e62f56"
      },
      "execution_count": null,
      "outputs": [
        {
          "output_type": "execute_result",
          "data": {
            "text/plain": [
              "DegreeView({})"
            ]
          },
          "metadata": {},
          "execution_count": 33
        }
      ]
    },
    {
      "cell_type": "markdown",
      "source": [
        "Ahora veamos que se pueden eliminar nodos y aristas del gráfico de forma similar a como se agregan. Usando los métodos Graph.remove_node(), Graph.remove_nodes_from(), Graph.remove_edge()y Graph.remove_edges_from()"
      ],
      "metadata": {
        "id": "1w-zwn2TBWmc"
      }
    },
    {
      "cell_type": "markdown",
      "source": [
        "# Grafos dirigidos"
      ],
      "metadata": {
        "id": "lGAcfbvIChuy"
      }
    },
    {
      "cell_type": "markdown",
      "source": [
        "La **DiGraphclase** proporciona métodos y propiedades adicionales específicos para los bordes dirigidos, por ejemplo, D**iGraph.out_edges, , DiGraph.in_degree, DiGraph.predecessors()** etc. DiGraph.successors()Para permitir que los algoritmos funcionen con ambas clases fácilmente, las versiones dirigidas de **neighborsson** equivalentes a successorsmientras que **DiGraph.degree** informan la suma de DiGraph.**in_degreey DiGraph.out_degree** aunque a veces eso pueda parecer inconsistente."
      ],
      "metadata": {
        "id": "1Wh95rrzCl6_"
      }
    },
    {
      "cell_type": "markdown",
      "source": [
        "creanmos un grafo dirigido (DiGraph), que es un tipo de grafo donde las conexiones tienen una dirección (como las calles de un solo sentido). Luego, usamos la función add_weighted_edges_from para agregar dos bordes con un atributo llamado 'weight' (peso).\n",
        "\n",
        "DG.add_weighted_edges_from([(1, 2, 0.5), (3, 1, 0.75)]): Esta línea añade dos bordes:\n",
        "\n",
        "Un borde del nodo 1 al nodo 2 con un peso de 0.5.\n",
        "\n",
        "Un borde del nodo 3 al nodo 1 con un peso de 0.75."
      ],
      "metadata": {
        "id": "h49Z-IhiJI-7"
      }
    },
    {
      "cell_type": "code",
      "source": [
        "DG = nx.DiGraph()\n",
        "DG.add_weighted_edges_from([(1, 2, 0.5), (3, 1, 0.75)])\n",
        "DG.out_degree(1, weight='weight')"
      ],
      "metadata": {
        "id": "PbjGDm7TI_l9",
        "colab": {
          "base_uri": "https://localhost:8080/"
        },
        "outputId": "03f434ad-af28-4cda-f353-18f0a29be396"
      },
      "execution_count": null,
      "outputs": [
        {
          "output_type": "execute_result",
          "data": {
            "text/plain": [
              "0.5"
            ]
          },
          "metadata": {},
          "execution_count": 34
        }
      ]
    },
    {
      "cell_type": "markdown",
      "source": [
        "DG.out_degree(1, weight='weight'):\n",
        "\n",
        "out_degree: Esto calcula el grado de salida del nodo 1, es decir, el número de bordes que salen de él.\n",
        "\n",
        "weight='weight': Este parámetro le dice a NetworkX que no solo cuente los bordes, sino que sume sus valores de peso."
      ],
      "metadata": {
        "id": "SXUT23O8JXEh"
      }
    },
    {
      "cell_type": "code",
      "source": [
        "DG.out_degree(1, weight='weight')"
      ],
      "metadata": {
        "id": "EOJLAUynJija",
        "colab": {
          "base_uri": "https://localhost:8080/"
        },
        "outputId": "56040ff3-a443-4b1f-f765-ec3ef57022c0"
      },
      "execution_count": null,
      "outputs": [
        {
          "output_type": "execute_result",
          "data": {
            "text/plain": [
              "0.5"
            ]
          },
          "metadata": {},
          "execution_count": 35
        }
      ]
    },
    {
      "cell_type": "markdown",
      "source": [
        "DG.degree(1, weight='weight'):\n",
        "\n",
        "degree: Esto calcula el grado total del nodo 1, que es la suma de los bordes que entran y salen de él.\n",
        "\n",
        "weight='weight': Al igual que antes, esto suma los pesos de todos los bordes conectados al nodo 1."
      ],
      "metadata": {
        "id": "JQUuOwi6Jtbe"
      }
    },
    {
      "cell_type": "code",
      "source": [
        "DG.degree(1, weight='weight')"
      ],
      "metadata": {
        "id": "XCH78p-cJxKt",
        "colab": {
          "base_uri": "https://localhost:8080/"
        },
        "outputId": "0d50eb98-1fac-4445-f97d-bdb323f72dd8"
      },
      "execution_count": null,
      "outputs": [
        {
          "output_type": "execute_result",
          "data": {
            "text/plain": [
              "1.25"
            ]
          },
          "metadata": {},
          "execution_count": 36
        }
      ]
    },
    {
      "cell_type": "markdown",
      "source": [
        "list(DG.successors(1)):\n",
        "\n",
        "successors: Esta función te da una lista de los sucesores del nodo 1, que son los nodos a los que se puede llegar directamente a través de un borde que sale de él."
      ],
      "metadata": {
        "id": "JnYMKy9OJ0Mt"
      }
    },
    {
      "cell_type": "code",
      "source": [
        "list(DG.successors(1))"
      ],
      "metadata": {
        "colab": {
          "base_uri": "https://localhost:8080/"
        },
        "id": "eiv0n3vtJ41s",
        "outputId": "554b59a9-cb55-401d-d79c-32ecee03f146"
      },
      "execution_count": null,
      "outputs": [
        {
          "output_type": "execute_result",
          "data": {
            "text/plain": [
              "[2]"
            ]
          },
          "metadata": {},
          "execution_count": 37
        }
      ]
    },
    {
      "cell_type": "markdown",
      "source": [
        "list(DG.neighbors(1)):\n",
        "\n",
        "neighbors: En un grafo dirigido, esta función es igual a successors(). También devuelve los nodos a los que se puede llegar a través de un borde saliente."
      ],
      "metadata": {
        "id": "7L5O4TblJ-rA"
      }
    },
    {
      "cell_type": "code",
      "source": [
        "list(DG.neighbors(1))"
      ],
      "metadata": {
        "id": "AbCbs7M1KAeo",
        "colab": {
          "base_uri": "https://localhost:8080/"
        },
        "outputId": "83a0d45d-e943-47c1-8a91-7c5d2635d6b5"
      },
      "execution_count": null,
      "outputs": [
        {
          "output_type": "execute_result",
          "data": {
            "text/plain": [
              "[2]"
            ]
          },
          "metadata": {},
          "execution_count": 38
        }
      ]
    },
    {
      "cell_type": "code",
      "source": [
        "import networkx as nx"
      ],
      "metadata": {
        "id": "VE8y5MIQQaW4"
      },
      "execution_count": null,
      "outputs": []
    },
    {
      "cell_type": "code",
      "source": [
        "G = nx.DiGraph() #grafo dirigido"
      ],
      "metadata": {
        "id": "3r-fLyC9QeW3"
      },
      "execution_count": null,
      "outputs": []
    },
    {
      "cell_type": "code",
      "source": [
        "G.add_edge(\"A\",\"C\", capacity = 5 ) # Crea un arco de A a C\n",
        "G.add_edge(\"A\",\"B\", capacity = 5 ) # Crea un arco de A a B\n",
        "G.add_edge(\"B\",\"C\", capacity = 5 ) # Crea un arco de B a C\n",
        "G.add_edge(\"C\",\"D\", capacity = 5 ) # Crea un arco de C a D\n",
        "G.add_edge(\"B\",\"D\", capacity = 5 ) # Crea un arco de B a D"
      ],
      "metadata": {
        "id": "wV9_W4gRQioj"
      },
      "execution_count": null,
      "outputs": []
    },
    {
      "cell_type": "code",
      "source": [
        "G  # Muestra el tipo de clase"
      ],
      "metadata": {
        "colab": {
          "base_uri": "https://localhost:8080/"
        },
        "id": "dPmNwGExQmls",
        "outputId": "a4ac52b8-e28c-408b-f042-b79e4d057eb9"
      },
      "execution_count": null,
      "outputs": [
        {
          "output_type": "execute_result",
          "data": {
            "text/plain": [
              "<networkx.classes.digraph.DiGraph at 0x7b46d876a0f0>"
            ]
          },
          "metadata": {},
          "execution_count": 44
        }
      ]
    },
    {
      "cell_type": "markdown",
      "source": [
        "nx.draw_networkx(G): dibuja nodos, aristas y etiquetas de los nodos. nx.draw_networkx(G, node_color=\"red\"): Pinta todos los nodos de color rojo.\n",
        "\n",
        "Por defecto:\n",
        "\n",
        "Los nodos aparecen como círculos.\n",
        "Las aristas como líneas negras. (edge_color=\" \")\n",
        "Los nombres de los nodos se muestran como etiquetas."
      ],
      "metadata": {
        "id": "Jxrr-MoFPlPY"
      }
    },
    {
      "cell_type": "code",
      "source": [
        "nx.draw_networkx(G, node_color=\"pink\", edge_color=\"darkblue\") # Muestra la red creada en color rojo"
      ],
      "metadata": {
        "colab": {
          "base_uri": "https://localhost:8080/",
          "height": 406
        },
        "id": "njxIO3koP2MA",
        "outputId": "533283f9-c55f-421c-c4eb-8f776f8950ce"
      },
      "execution_count": null,
      "outputs": [
        {
          "output_type": "display_data",
          "data": {
            "text/plain": [
              "<Figure size 640x480 with 1 Axes>"
            ],
            "image/png": "[encoded data removed]"
          },
          "metadata": {}
        }
      ]
    },
    {
      "cell_type": "markdown",
      "source": [
        "Ahora que ya sabemos como trabajar con Networks podemos realizar mas cosas,como algoritmos para halllar la ruta mas corta,flujo maximo o un árbol de expanción. minima .Análicemos cada uno por separdo."
      ],
      "metadata": {
        "id": "14HqnK-KSYOX"
      }
    },
    {
      "cell_type": "markdown",
      "source": [
        "# Algoritmo de Árbol de Expansion Minima"
      ],
      "metadata": {
        "id": "C5AvvL1gSwqG"
      }
    },
    {
      "cell_type": "markdown",
      "source": [
        "Este algoritmo se encarga de conetar todos los vertices de manera eficiente sin formar ciclos y con el minimo peso total posible en las aristas.\n",
        "\n",
        "este algoritmo lo podemos usar para determinar la red de menor costo.\n",
        "\n",
        "Cabe recalcar que aqui las conecciones no tienen sentido unico, ademas existe camino entre cualquier par de nodos, y son podenrados o sea están asociados a una distancia.\n",
        "\n",
        "Algunos ejemplos son:\n",
        "\n",
        "\n",
        "1.   minima longitud de cable en una red de cableado\n",
        "2.   tuberias para abastecer todos los puntos minimizando el costo de instalación.\n",
        "3.  Transporte para rutas conectar centros de distribución con menor distancia o tiempo.\n",
        "\n",
        "\n"
      ],
      "metadata": {
        "id": "IWu4BuaKS9JL"
      }
    },
    {
      "cell_type": "markdown",
      "source": [
        "**Veamos en que consiste el algoritmo:**"
      ],
      "metadata": {
        "id": "tr2Q1cw9UEp6"
      }
    },
    {
      "cell_type": "markdown",
      "source": [
        "\n",
        "\n",
        "*   Seleccionamos el nodo del que se inicia y forma parte de mi conjunto C\n",
        "* Ahora mi conjunto C complemento son todos los que no son C\n",
        "*   Calculamos las distancias.\n",
        "* Seleccionamos el nodo que nos da la menor distancia.\n",
        "* Agregamos ese nodo y vamos haciendo esto iterativamente hasta pasar por todos los nodos\n"
      ],
      "metadata": {
        "id": "D9ATCFqhUkLo"
      }
    },
    {
      "cell_type": "markdown",
      "source": [
        "veamoslo mas claro con el siguiente ejemplo que graficaremos con lo ya visto antes"
      ],
      "metadata": {
        "id": "e0t9C_atVHzx"
      }
    },
    {
      "cell_type": "markdown",
      "source": [
        "1. Creamos un grafo no dirigido con nodos de 1 a 6."
      ],
      "metadata": {
        "id": "McAZTpzwV9Hq"
      }
    },
    {
      "cell_type": "code",
      "source": [
        "import networkx as nx\n",
        "import matplotlib.pyplot as plt\n",
        "G = nx.Graph()"
      ],
      "metadata": {
        "id": "XVB2ygqSVwCi"
      },
      "execution_count": null,
      "outputs": []
    },
    {
      "cell_type": "markdown",
      "source": [
        "2. Definimos las aristas con sus pesos (weights)\n",
        " Los datos se ingresan como tuplas de 3: (nodo_origen, nodo_destino, peso)\n"
      ],
      "metadata": {
        "id": "4KPfDu2UWBg8"
      }
    },
    {
      "cell_type": "code",
      "source": [
        "edges_with_weights = [\n",
        "    (1, 2, 1),\n",
        "    (1, 3, 5),\n",
        "    (1, 4, 7),\n",
        "    (1, 5, 9),\n",
        "    (2, 4, 4),\n",
        "    (2, 5, 3),\n",
        "    (2, 3, 6),\n",
        "    (3, 4, 6),\n",
        "    (3, 6, 10),\n",
        "    (4, 6, 3),\n",
        "    (4, 5, 8)\n",
        "]"
      ],
      "metadata": {
        "id": "yq1CyuBzWNoL"
      },
      "execution_count": null,
      "outputs": []
    },
    {
      "cell_type": "markdown",
      "source": [
        "Usamos add_weighted_edges_from para añadir todas las aristas y sus pesos\n"
      ],
      "metadata": {
        "id": "kbkK71OPWv2W"
      }
    },
    {
      "cell_type": "code",
      "source": [
        "G.add_weighted_edges_from(edges_with_weights)"
      ],
      "metadata": {
        "id": "WAk_mvFxWz4o"
      },
      "execution_count": null,
      "outputs": []
    },
    {
      "cell_type": "markdown",
      "source": [
        " 3. Definir la posición de los nodos (Layout)\n",
        "  Los valores son coordenadas (x, y) relativas.\n",
        " Nota: NetworkX tiene layouts automáticos (como nx.spring_layout(G)).\n"
      ],
      "metadata": {
        "id": "K1fKinbtW3ej"
      }
    },
    {
      "cell_type": "code",
      "source": [
        "pos = {\n",
        "    1: (1, 6),\n",
        "    2: (3, 7),\n",
        "    3: (6, 4),\n",
        "    4: (4, 1),\n",
        "    5: (9, 7),\n",
        "    6: (9, 1)\n",
        "}\n"
      ],
      "metadata": {
        "id": "9g9SzDeVXKQa"
      },
      "execution_count": null,
      "outputs": []
    },
    {
      "cell_type": "markdown",
      "source": [
        "4. Obtenemos las etiquetas de los pesos de las aristas\n",
        " Esto crea un diccionario donde la clave es la arista (u, v) y el valor es el peso.\n"
      ],
      "metadata": {
        "id": "IXMYtgJPXPCn"
      }
    },
    {
      "cell_type": "code",
      "source": [
        "edge_labels = nx.get_edge_attributes(G, 'weight')\n"
      ],
      "metadata": {
        "id": "O_iR0eiSXS8s"
      },
      "execution_count": null,
      "outputs": []
    },
    {
      "cell_type": "markdown",
      "source": [
        "5. Dibujar el grafo"
      ],
      "metadata": {
        "id": "0Eu35bGdXYHZ"
      }
    },
    {
      "cell_type": "code",
      "source": [
        "plt.figure(figsize=(10, 10))"
      ],
      "metadata": {
        "colab": {
          "base_uri": "https://localhost:8080/",
          "height": 51
        },
        "id": "6boJAqecXaoo",
        "outputId": "aed514dd-d4df-4482-eab2-71793b28dbbb"
      },
      "execution_count": null,
      "outputs": [
        {
          "output_type": "execute_result",
          "data": {
            "text/plain": [
              "<Figure size 1000x1000 with 0 Axes>"
            ]
          },
          "metadata": {},
          "execution_count": 97
        },
        {
          "output_type": "display_data",
          "data": {
            "text/plain": [
              "<Figure size 1000x1000 with 0 Axes>"
            ]
          },
          "metadata": {}
        }
      ]
    },
    {
      "cell_type": "markdown",
      "source": [
        " a) Dibujar los nodos (círculos)"
      ],
      "metadata": {
        "id": "4FMuhP-5Xdil"
      }
    },
    {
      "cell_type": "markdown",
      "source": [
        "b)dibujar aristas"
      ],
      "metadata": {
        "id": "H1l7JzIaXmGg"
      }
    },
    {
      "cell_type": "markdown",
      "source": [
        "c)Dibujamos las etiquetas de los nodos"
      ],
      "metadata": {
        "id": "768GgGSAXsCd"
      }
    },
    {
      "cell_type": "markdown",
      "source": [
        "d) Dibujar los pesos de las aristas"
      ],
      "metadata": {
        "id": "WUqVQrqQXzi7"
      }
    },
    {
      "cell_type": "code",
      "source": [
        "# a) Dibujar los nodos (círculos)\n",
        "nx.draw_networkx_nodes(G, pos, node_size=1000, node_color='lightgray')\n",
        "\n",
        "# b) Dibujar las aristas (líneas gruesas)\n",
        "nx.draw_networkx_edges(G, pos, width=3, edge_color='black')\n",
        "\n",
        "# c) Dibujar las etiquetas de los nodos (los números 1 a 6)\n",
        "nx.draw_networkx_labels(G, pos, font_size=12, font_color='black')\n",
        "\n",
        "# d) Dibujar los pesos de las aristas\n",
        "# draw_networkx_edge_labels es clave para mostrar los números en las líneas.\n",
        "nx.draw_networkx_edge_labels(G, pos, edge_labels=edge_labels, font_color='red', font_size=10)\n",
        "\n",
        "# Configuraciones finales para limpiar el gráfico\n",
        "plt.title(\"Ejemplo Algoritmo\")\n",
        "plt.show()"
      ],
      "metadata": {
        "colab": {
          "base_uri": "https://localhost:8080/",
          "height": 428
        },
        "id": "s4OQXq6WXgbM",
        "outputId": "a402c553-856e-4494-a92d-b6e0161e5cb0"
      },
      "execution_count": null,
      "outputs": [
        {
          "output_type": "display_data",
          "data": {
            "text/plain": [
              "<Figure size 640x480 with 1 Axes>"
            ],
            "image/png": "[encoded data removed]"
          },
          "metadata": {}
        }
      ]
    },
    {
      "cell_type": "markdown",
      "source": [
        "**Ahora vemos como determnar la red de menor costo para este grafo.**"
      ],
      "metadata": {
        "id": "-L_ZZqNnYSur"
      }
    },
    {
      "cell_type": "markdown",
      "source": [
        "1. Calcular el Árbol de Expansión Mínima (AEM)\n",
        "NetworkX implementa algoritmos eficientes (como Kruskal o Prim) para encontrar el AEM. El resultado será un nuevo objeto de grafo que solo contiene las aristas que forman la red de menor costo."
      ],
      "metadata": {
        "id": "tSkieTjbbABx"
      }
    },
    {
      "cell_type": "code",
      "source": [
        "# Usamos la función minimum_spanning_tree para calcular el AEM\n",
        "T = nx.minimum_spanning_tree(G)"
      ],
      "metadata": {
        "id": "KdcyUSIvbB-P"
      },
      "execution_count": null,
      "outputs": []
    },
    {
      "cell_type": "markdown",
      "source": [
        "2. Determinar el Costo Total Mínimo\n",
        "El costo total de la red de menor costo es la suma de los pesos de las aristas del AEM. NetworkX puede calcularlo usando la función .size() en el grafo del AEM (T), especificando que use el atributo 'weight'."
      ],
      "metadata": {
        "id": "cn5907cHbFQg"
      }
    },
    {
      "cell_type": "code",
      "source": [
        "# Calcular el peso total del AEM\n",
        "costo_total_minimo = T.size(weight='weight')\n",
        "\n",
        "print(f\"Las aristas del AEM son: {T.edges(data=True)}\")\n",
        "print(f\"El Costo Total Mínimo (AEM) es: {costo_total_minimo}\")"
      ],
      "metadata": {
        "colab": {
          "base_uri": "https://localhost:8080/"
        },
        "id": "MhVIYCs8bMDC",
        "outputId": "ae18b0ca-ca45-4f4c-b55c-2286eb2a653e"
      },
      "execution_count": null,
      "outputs": [
        {
          "output_type": "stream",
          "name": "stdout",
          "text": [
            "Las aristas del AEM son: [(1, 2, {'weight': 1}), (1, 3, {'weight': 5}), (2, 5, {'weight': 3}), (2, 4, {'weight': 4}), (4, 6, {'weight': 3})]\n",
            "El Costo Total Mínimo (AEM) es: 16.0\n"
          ]
        }
      ]
    },
    {
      "cell_type": "markdown",
      "source": [
        "3.Para entender qué aristas componen esta red de menor costo, podemos dibujarlas ."
      ],
      "metadata": {
        "id": "JCzQv7Hubd2H"
      }
    },
    {
      "cell_type": "code",
      "source": [
        "\n",
        "# 3. Configurar el Dibujo\n",
        "plt.figure(figsize=(10, 6))\n",
        "plt.title(f\"Red de Menor Costo (AEM) — Costo Total: {mst_weight}\", fontsize=14)\n",
        "\n",
        "# 4. Dibujar los Nodos\n",
        "# Dibujamos los nodos del grafo T (que son los mismos que G)\n",
        "nx.draw_networkx_nodes(T, pos, node_size=1200, node_color='lightblue', edgecolors='black', linewidths=1.5)\n",
        "\n",
        "# 5. Dibujar las Etiquetas de los Nodos (Números 1-6)\n",
        "nx.draw_networkx_labels(T, pos, font_size=14, font_color='black', font_weight='bold')\n",
        "\n",
        "# 6. Dibujar SOLO las Aristas del AEM\n",
        "nx.draw_networkx_edges(T, pos, width=4, edge_color='darkblue')\n",
        "\n",
        "# 7. Dibujar los Pesos de las Aristas (Etiquetas)\n",
        "nx.draw_networkx_edge_labels(T, pos, edge_labels=mst_edge_labels, font_color='black', font_size=12, font_weight='bold')\n",
        "\n",
        "plt.axis('off')\n",
        "plt.show()"
      ],
      "metadata": {
        "colab": {
          "base_uri": "https://localhost:8080/",
          "height": 522
        },
        "id": "5Z03uk8gebGl",
        "outputId": "279a5b62-119a-4360-becc-0fb1b62a404d"
      },
      "execution_count": null,
      "outputs": [
        {
          "output_type": "display_data",
          "data": {
            "text/plain": [
              "<Figure size 1000x600 with 1 Axes>"
            ],
            "image/png": "[encoded data removed]"
          },
          "metadata": {}
        }
      ]
    },
    {
      "cell_type": "markdown",
      "source": [
        "# Problema de la ruta mas corta Algoritmo de Dijkstra"
      ],
      "metadata": {
        "id": "8ym-Y9LW0g9D"
      }
    },
    {
      "cell_type": "markdown",
      "source": [
        "1. Inicialización: Asigna una distancia infinita a todos los nodos, excepto al nodo de origen, que se inicializa con distancia 0.\n",
        "2. Selección del nodo: Se elige el nodo no visitado que tiene la menor distancia estimada desde el origen.\n",
        "3. Visita: Se marca el nodo seleccionado como visitado.\n",
        "4. Actualización de vecinos: Para cada vecino del nodo actual, se calcula una nueva distancia sumando la distancia actual del nodo seleccionado y el peso de la arista que los conecta.\n",
        "5. Comparación: Si esta nueva distancia es menor que la distancia previamente estimada para el vecino, se actualiza su distancia.\n",
        "6. Repetición: Se repiten los pasos 2 a 5 hasta que el nodo de destino se haya visitado, o hasta que todos los nodos alcanzables hayan sido visitados.\n",
        "\n",
        "\n",
        "**Aplicaciones**\n",
        "\n",
        "\n",
        "GPS y navegación: Para encontrar la ruta más corta en mapas y optimizar rutas de viaje.\n",
        "\n",
        "\n",
        "Redes de comunicación: Para el enrutamiento de paquetes en Internet, seleccionando la ruta de menor costo.\n",
        "\n",
        "\n",
        "Logística: Para planificar rutas de entrega eficientes para empresas de transporte y mensajería."
      ],
      "metadata": {
        "id": "5GyYhJy11GlM"
      }
    },
    {
      "cell_type": "markdown",
      "source": [
        "Hgamos un ejemplo visual para que sea mas facil entenderlo"
      ],
      "metadata": {
        "id": "o3pn-M0P1-RP"
      }
    },
    {
      "cell_type": "code",
      "source": [
        "# 1. Crear un grafo dirigido (DiGraph)\n",
        "G = nx.DiGraph()"
      ],
      "metadata": {
        "id": "gO4rhcqK2QFh"
      },
      "execution_count": 2,
      "outputs": []
    },
    {
      "cell_type": "code",
      "source": [
        "# 2. Definir los bordes con sus pesos (peso es el tercer elemento de la tupla)\n",
        "# El formato es (nodo_origen, nodo_destino, peso)\n",
        "edges = [\n",
        "    (1, 2, 100),\n",
        "    (1, 3, 30),\n",
        "    (2, 3, 20),\n",
        "    (4, 2, 15),\n",
        "    (3, 4, 10),\n",
        "    (3, 5, 60),\n",
        "    (4, 5, 50)\n",
        "]"
      ],
      "metadata": {
        "id": "3nZecZsm2W7U"
      },
      "execution_count": 3,
      "outputs": []
    },
    {
      "cell_type": "code",
      "source": [
        "# Agregar los bordes con sus pesos\n",
        "G.add_weighted_edges_from(edges)"
      ],
      "metadata": {
        "id": "1uivRWAS2fdT"
      },
      "execution_count": 4,
      "outputs": []
    },
    {
      "cell_type": "code",
      "source": [
        "\n",
        "pos = {\n",
        "    1: (0, 0),  # Nodo 1\n",
        "    2: (1, 1),  # Nodo 2\n",
        "    3: (2, 0),  # Nodo 3\n",
        "    4: (3, 1),  # Nodo 4\n",
        "    5: (4, 0)   # Nodo 5\n",
        "}"
      ],
      "metadata": {
        "id": "O0VuUrMJ2g_f"
      },
      "execution_count": 5,
      "outputs": []
    },
    {
      "cell_type": "code",
      "source": [
        "\n",
        "plt.figure(figsize=(10, 5))\n",
        "edge_labels = nx.get_edge_attributes(G, 'weight')\n",
        "\n",
        "# color y tamaño de los nodos\n",
        "node_options = {\n",
        "    \"node_color\": \"#a0cbe2\",  # Un azul claro similar\n",
        "    \"node_size\": 1500,       # Tamaño de los nodos\n",
        "    \"linewidths\": 2,         # Grosor del borde del nodo\n",
        "    \"edgecolors\": \"#003366\"  # Color del borde del nodo (azul oscuro)\n",
        "}\n",
        "\n",
        "# Personalizar el color y estilo de los bordes\n",
        "edge_options = {\n",
        "    \"width\": 2,              # Grosor de la línea del borde\n",
        "    \"arrowsize\": 20,         # Tamaño de las puntas de flecha\n",
        "    \"edge_color\": \"#003366\"  # Color de la línea del borde\n",
        "}\n",
        "\n",
        "# Dibujar el grafo\n",
        "nx.draw_networkx(\n",
        "    G,\n",
        "    pos,\n",
        "    with_labels=True,\n",
        "    **node_options,\n",
        "    **edge_options,\n",
        "    font_size=16,\n",
        "    font_color='black',\n",
        "    alpha=0.9\n",
        ")\n",
        "\n",
        "# Dibujar las etiquetas de los pesos en los bordes\n",
        "nx.draw_networkx_edge_labels(\n",
        "    G,\n",
        "    pos,\n",
        "    edge_labels=edge_labels,\n",
        "    font_color='black',\n",
        "    font_size=12\n",
        ")\n",
        "\n",
        "# Mostrar el gráfico\n",
        "plt.title(\"Dijkstra\")\n",
        "plt.show()"
      ],
      "metadata": {
        "colab": {
          "base_uri": "https://localhost:8080/",
          "height": 444
        },
        "id": "br565SIC2GBH",
        "outputId": "766bb895-312b-4db3-9416-0e0fd9d531e8"
      },
      "execution_count": 7,
      "outputs": [
        {
          "output_type": "display_data",
          "data": {
            "text/plain": [
              "<Figure size 1000x500 with 1 Axes>"
            ],
            "image/png": "[encoded data removed]"
          },
          "metadata": {}
        }
      ]
    },
    {
      "cell_type": "markdown",
      "source": [
        "iniciamos el algoritmo"
      ],
      "metadata": {
        "id": "kVK4yPa47o93"
      }
    },
    {
      "cell_type": "code",
      "source": [
        "# Definir el nodo de inicio\n",
        "start_node = 1"
      ],
      "metadata": {
        "id": "scuyd_Fu7rDz"
      },
      "execution_count": 9,
      "outputs": []
    },
    {
      "cell_type": "code",
      "source": [
        "# Ejecutar el algoritmo de Dijkstra desde el nodo 1\n",
        "# La función devuelve dos diccionarios:\n",
        "# - distances: la longitud más corta a cada nodo\n",
        "# - paths: el camino más corto a cada nodo\n",
        "distances, paths = nx.single_source_dijkstra(G, source=start_node, weight='weight')"
      ],
      "metadata": {
        "id": "6RDu_WeD8z7s"
      },
      "execution_count": 10,
      "outputs": []
    },
    {
      "cell_type": "code",
      "source": [
        "# Imprimir los resultados\n",
        "print(f\"Resultados del algoritmo de Dijkstra desde el Nodo {start_node}:\")\n",
        "print(\"-\" * 50)\n",
        "\n",
        "# Imprimir la distancia y el camino más corto a cada nodo\n",
        "for target_node in sorted(distances.keys()):\n",
        "    if target_node != start_node:\n",
        "        distance = distances[target_node]\n",
        "        path = paths[target_node]\n",
        "\n",
        "\n",
        "        print(f\"Distancia a Nodo {target_node}: {distance: <4} | Camino: {' -> '.join(map(str, path))}\")\n",
        "\n",
        "print(\"-\" * 50)\n",
        "print(\"El camino más corto al Nodo 5 sigue siendo: 1 -> 3 -> 5\")"
      ],
      "metadata": {
        "colab": {
          "base_uri": "https://localhost:8080/"
        },
        "id": "QBB5hVJ9887N",
        "outputId": "773e6b78-d530-4a95-c260-6da291d3bb88"
      },
      "execution_count": 12,
      "outputs": [
        {
          "output_type": "stream",
          "name": "stdout",
          "text": [
            "Resultados del algoritmo de Dijkstra desde el Nodo 1:\n",
            "--------------------------------------------------\n",
            "Distancia a Nodo 2: 55   | Camino: 1 -> 3 -> 4 -> 2\n",
            "Distancia a Nodo 3: 30   | Camino: 1 -> 3\n",
            "Distancia a Nodo 4: 40   | Camino: 1 -> 3 -> 4\n",
            "Distancia a Nodo 5: 90   | Camino: 1 -> 3 -> 5\n",
            "--------------------------------------------------\n",
            "El camino más corto al Nodo 5 sigue siendo: 1 -> 3 -> 5\n"
          ]
        }
      ]
    },
    {
      "cell_type": "markdown",
      "source": [
        "# PROBLEMA DE FLUJO MÁXIMO"
      ],
      "metadata": {
        "id": "B4NfQi2w9LVu"
      }
    },
    {
      "cell_type": "markdown",
      "source": [
        "Consiste en encontrar la cantidad máxima de un recurso (como material, información o flujo) que puede ser transportado desde un nodo de origen a un nodo de destino en una red, respetando la capacidad máxima de cada arco y la conservación del flujo en los nodos intermedios."
      ],
      "metadata": {
        "id": "Z7PEd4YU9UFI"
      }
    },
    {
      "cell_type": "markdown",
      "source": [
        "**Algoritmo:**\n",
        "\n",
        "\n",
        "* Identificar la red: Define los nodos (origen, destino y nodos intermedios) y los arcos con sus capacidades.\n",
        "* Formular el problema: Se modela matemáticamente como un problema de programación lineal.\n",
        "* Se busca una ruta (trayectoria de aumento) del origen al destino con capacidad residual positiva.\n",
        "* Se determina el flujo máximo que puede pasar por esa ruta (el mínimo de sus capacidades residuales).\n",
        "* Se actualiza la red: se reduce la capacidad residual de los arcos en el sentido del flujo y se aumenta la de los arcos inversos (debido al flujo enviado).\n",
        "* Se repite este proceso hasta que no se puedan encontrar más rutas de aumento.\n"
      ],
      "metadata": {
        "id": "ud5jM9n79s4r"
      }
    },
    {
      "cell_type": "markdown",
      "source": [
        "Veamos un ejemplo paso a paso usando lo que ya vimos anteriormente"
      ],
      "metadata": {
        "id": "JlKpepPz-M-l"
      }
    },
    {
      "cell_type": "code",
      "source": [
        "# Crear un grafo dirigido (DiGraph)\n",
        "G = nx.DiGraph()\n"
      ],
      "metadata": {
        "id": "Y8jsFB0G-TWH"
      },
      "execution_count": 19,
      "outputs": []
    },
    {
      "cell_type": "code",
      "source": [
        "# Definir los bordes con sus pesos (source, target, weight)\n",
        "edges = [\n",
        "    ('A', 'B', 9),\n",
        "    ('A', 'C', 7),\n",
        "    ('B', 'D', 7),\n",
        "    ('B', 'E', 2),\n",
        "    ('C', 'D', 2),\n",
        "    ('C', 'E', 6),\n",
        "    ('D', 'F', 6),\n",
        "    ('D', 'E', 3),\n",
        "    ('E', 'F', 9)\n",
        "]\n",
        "\n",
        "# Agregar los bordes con sus pesos\n",
        "G.add_weighted_edges_from(edges)\n"
      ],
      "metadata": {
        "id": "-ZO9PiNy_mSc"
      },
      "execution_count": 24,
      "outputs": []
    },
    {
      "cell_type": "code",
      "source": [
        "# 3. Definir las posiciones de los nodos manualmente para que se parezca al dibujo\n",
        "# Las coordenadas se basan en la cuadrícula del dibujo original: (x, y)\n",
        "pos = {\n",
        "    'A': (0, 1),\n",
        "    'B': (1, 2),\n",
        "    'C': (1, 0),\n",
        "    'D': (3, 2),\n",
        "    'E': (3, 0),\n",
        "    'F': (5, 1)\n",
        "}\n"
      ],
      "metadata": {
        "id": "CMv8spzC_u_6"
      },
      "execution_count": 25,
      "outputs": []
    },
    {
      "cell_type": "code",
      "source": [
        "\n",
        "plt.figure(figsize=(10, 6))\n",
        "\n",
        "# Obtener los pesos\n",
        "edge_labels = nx.get_edge_attributes(G, 'weight')\n",
        "# Dibujar el grafo\n",
        "nx.draw_networkx(\n",
        "    G,\n",
        "    pos,\n",
        "    with_labels=True,\n",
        "    **node_options,\n",
        "    **edge_options,\n",
        "    font_size=16,\n",
        "    font_color='black',\n",
        "    alpha=0.9\n",
        ")\n",
        "\n",
        "# Dibujar las etiquetas de los pesos en los bordes\n",
        "nx.draw_networkx_edge_labels(\n",
        "    G,\n",
        "    pos,\n",
        "    edge_labels=edge_labels,\n",
        "    font_color='black',\n",
        "    font_size=12,\n",
        ")\n",
        "\n",
        "# Mostrar el gráfico\n",
        "plt.title(\"Grafo Dirigido (A a F)\")\n",
        "plt.show()"
      ],
      "metadata": {
        "colab": {
          "base_uri": "https://localhost:8080/",
          "height": 521
        },
        "id": "VdSeQzYa_3Du",
        "outputId": "0b3a76f3-706b-4e2f-e227-90938e50c577"
      },
      "execution_count": 26,
      "outputs": [
        {
          "output_type": "display_data",
          "data": {
            "text/plain": [
              "<Figure size 1000x600 with 1 Axes>"
            ],
            "image/png": "[encoded data removed]"
          },
          "metadata": {}
        }
      ]
    },
    {
      "cell_type": "markdown",
      "source": [
        "Definir la Fuente (Source) y el Sumidero (Sink)"
      ],
      "metadata": {
        "id": "gn19aK-4Baxj"
      }
    },
    {
      "cell_type": "code",
      "source": [
        "# Definir la Fuente (Source) y el Sumidero (Sink)\n",
        "source_node = 'A'\n",
        "sink_node = 'F'"
      ],
      "metadata": {
        "id": "fq8Cugw5As56"
      },
      "execution_count": 32,
      "outputs": []
    },
    {
      "cell_type": "markdown",
      "source": [
        "Calcular el Flujo Máximo\n",
        "maximum_flow() devuelve una tupla: (valor_del_flujo, diccionario_del_flujo)"
      ],
      "metadata": {
        "id": "4Y54LlbBBg_C"
      }
    },
    {
      "cell_type": "code",
      "source": [
        "# Calcular el Flujo Máximo\n",
        "# maximum_flow() devuelve una tupla: (valor_del_flujo, diccionario_del_flujo)\n",
        "flow_value, flow_dict = nx.maximum_flow(G, source_node, sink_node)"
      ],
      "metadata": {
        "id": "vJhHNFMeBbvl"
      },
      "execution_count": 33,
      "outputs": []
    },
    {
      "cell_type": "code",
      "source": [
        "# Imprimir los resultados\n",
        "print(f\"Fuente (Source): {source_node}\")\n",
        "print(f\"Sumidero (Sink): {sink_node}\")\n",
        "print(\"-\" * 40)\n",
        "print(f\"El Flujo Máximo de {source_node} a {sink_node} es: {flow_value}\")"
      ],
      "metadata": {
        "colab": {
          "base_uri": "https://localhost:8080/"
        },
        "id": "YlEGVepyBpNR",
        "outputId": "2e914b33-c93f-4216-e009-4d0b691dece7"
      },
      "execution_count": 34,
      "outputs": [
        {
          "output_type": "stream",
          "name": "stdout",
          "text": [
            "Fuente (Source): A\n",
            "Sumidero (Sink): F\n",
            "----------------------------------------\n",
            "El Flujo Máximo de A a F es: 14\n"
          ]
        }
      ]
    }
  ]
}