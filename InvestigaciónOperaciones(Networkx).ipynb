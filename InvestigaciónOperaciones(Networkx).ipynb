{
  "nbformat": 4,
  "nbformat_minor": 0,
  "metadata": {
    "colab": {
      "provenance": [],
      "authorship_tag": "ABX9TyOsN3mgFXMrfe1QQKuuTpDE",
      "include_colab_link": true
    },
    "kernelspec": {
      "name": "python3",
      "display_name": "Python 3"
    },
    "language_info": {
      "name": "python"
    }
  },
  "cells": [
    {
      "cell_type": "markdown",
      "metadata": {
        "id": "view-in-github",
        "colab_type": "text"
      },
      "source": [
        "<a href=\"https://colab.research.google.com/github/NaydelinAidee/Investigaci-n-de-Operaciones-Nay/blob/main/Investigaci%C3%B3nOperaciones(Networkx).ipynb\" target=\"_parent\"><img src=\"https://colab.research.google.com/assets/colab-badge.svg\" alt=\"Open In Colab\"/></a>"
      ]
    },
    {
      "cell_type": "markdown",
      "source": [
        "# **MODELO DE REDES**\n",
        "Naydelin Aidee Carcamo Hernandez"
      ],
      "metadata": {
        "id": "XkaAfRWxcb_J"
      }
    },
    {
      "cell_type": "markdown",
      "source": [
        "Un modelo de red es un tipo de modelo de base de datos que representa datos y sus relaciones de forma flexible, como un grafo donde los objetos son nodos y las relaciones son arcos."
      ],
      "metadata": {
        "id": "g9Ij_vm_fhIz"
      }
    },
    {
      "cell_type": "markdown",
      "source": [
        "Para poder trabajar con modelo de redes existe NetworkX que  en Python sirve para crear, manipular, analizar y visualizar **grafos** y **redes** **complejas**. Es una herramienta fundamental para modelar y estudiar estructuras como redes sociales, biológicas o de infraestructura, facilitando la implementación de algoritmos de **análisis** **de** **grafos**, la adición de atributos a nodos y aristas, y la exportación de datos en diversos formatos.\n",
        "\n",
        "\n",
        "**Funciones** **principales** **de** **NetworkX**:\n",
        "\n",
        "〰️Creación de grafos:\n",
        "Permite construir grafos de forma programática, añadiendo nodos y aristas de manera individual o desde iterables.\n",
        "〰️Manipulación de grafos:\n",
        "Se pueden agregar y eliminar nodos y aristas, así como adjuntar atributos como pesos, etiquetas o colores a los elementos del grafo.\n",
        "\n",
        "〰️Análisis de redes:\n",
        "Ofrece una amplia gama de algoritmos para analizar la estructura y dinámica de las redes, incluyendo algoritmos para encontrar caminos más cortos.\n",
        "\n",
        "〰️Visualización de grafos:\n",
        "Se integra con bibliotecas como Matplotlib para visualizar los grafos de manera flexible y personalizable, permitiendo aplicar diferentes algoritmos de diseño para posicionar los nodos."
      ],
      "metadata": {
        "id": "BmAv7uWfhUZg"
      }
    },
    {
      "cell_type": "markdown",
      "source": [
        "**Veamos un poco de lo que nos permite hacer esta libreria para nuestro analisis de modelos de redes.**"
      ],
      "metadata": {
        "id": "IHOcjIVdi1Oe"
      }
    },
    {
      "cell_type": "markdown",
      "source": [
        "# Crear Graficos\n",
        "\n",
        "〰️Podemos crear graficos vacios sin nodos ni aristas,veamos como\n",
        "podemos hacerlo."
      ],
      "metadata": {
        "id": "AGqpnN4jjCo8"
      }
    },
    {
      "cell_type": "code",
      "source": [
        "import networkx as nx\n",
        "G = nx.Graph()#Un nodo Graph es una coleccion de nodos junto con aristas,enlaces,etc."
      ],
      "metadata": {
        "id": "A5ckk-K2C3Mi"
      },
      "execution_count": 193,
      "outputs": []
    },
    {
      "cell_type": "markdown",
      "source": [
        "#Nodos"
      ],
      "metadata": {
        "id": "rlGYeeLXDchC"
      }
    },
    {
      "cell_type": "markdown",
      "source": [
        "Ahora hablemos de nodos,aqui podemos usar el grafo G que contiene bases para leer y escribir grafos."
      ],
      "metadata": {
        "id": "g3gASsGkC8n7"
      }
    },
    {
      "cell_type": "markdown",
      "source": [
        "Aqui podemos ir agregando de a un nodo a la vez. **add_node(1)**"
      ],
      "metadata": {
        "id": "9W60xcTBEkHF"
      }
    },
    {
      "cell_type": "code",
      "source": [
        "G.add_node(1)"
      ],
      "metadata": {
        "id": "ehIDRFZXEqMn"
      },
      "execution_count": 216,
      "outputs": []
    },
    {
      "cell_type": "markdown",
      "source": [
        "Aqui podemos agregar una lista de nodos. **add_nodes_from([lista])**"
      ],
      "metadata": {
        "id": "T50SpB2HFQfJ"
      }
    },
    {
      "cell_type": "code",
      "source": [
        "G.add_nodes_from([2, 3, 4])"
      ],
      "metadata": {
        "id": "n7FV0CEMFQ7f"
      },
      "execution_count": 217,
      "outputs": []
    },
    {
      "cell_type": "markdown",
      "source": [
        "Veamos que de esta forma podemos agregar aristas o sea nuestras conecciones. **add_edge(nodos a conectar)**"
      ],
      "metadata": {
        "id": "OA6VRDz8FZ__"
      }
    },
    {
      "cell_type": "code",
      "source": [
        "G.add_edge(1, 2)"
      ],
      "metadata": {
        "id": "0Gz-G9aOFiRJ"
      },
      "execution_count": 218,
      "outputs": []
    },
    {
      "cell_type": "markdown",
      "source": [
        "Aqui podemos agregar una lista de aristas."
      ],
      "metadata": {
        "id": "cSVrPd_UGKrE"
      }
    },
    {
      "cell_type": "code",
      "source": [
        "G.add_edges_from([(1, 3), (2, 4), (3, 4)]) # Agrega una lista de aristas"
      ],
      "metadata": {
        "id": "pSlxSHsfGQOS"
      },
      "execution_count": 219,
      "outputs": []
    },
    {
      "cell_type": "markdown",
      "source": [
        "Ahora veamos que podemos ir agregando múltiples nodos a la vez: La función add_nodes_from() se usa para añadir varios nodos a un grafo (que en este caso se llama G).\n",
        "\n",
        "Añadiendo atributos a los nodos: A diferencia de simplemente agregar un número, aquí estamos agregando información extra a cada nodo. A esta información se le llama atributo.\n",
        "\n",
        "El primer elemento (4, {\"color\": \"red\"}) crea un nodo con el número 4 y le asigna un atributo llamado \"color\" con el valor \"red\".\n",
        "\n",
        "El segundo elemento (5, {\"color\": \"green\"}) crea un nodo con el número 5 y le asigna un atributo \"color\" con el valor \"green\"."
      ],
      "metadata": {
        "id": "GRANi1_CHc-N"
      }
    },
    {
      "cell_type": "code",
      "source": [
        "G.add_nodes_from([(4, {\"color\": \"red\"}), (5, {\"color\": \"green\"})])"
      ],
      "metadata": {
        "id": "ZZ7ax5RgHfEe"
      },
      "execution_count": 220,
      "outputs": []
    },
    {
      "cell_type": "markdown",
      "source": [
        "Tambien podemos poner nodos de un grafico a otro es decir G contiene los nodos de H como nodos de G. ahora, podemos usar el gráfico H como un nodo en G."
      ],
      "metadata": {
        "id": "OKQA5NKbH2Fq"
      }
    },
    {
      "cell_type": "code",
      "source": [
        "H = nx.path_graph(10)\n",
        "G.add_nodes_from(H)"
      ],
      "metadata": {
        "id": "25A0SFD6ICtk"
      },
      "execution_count": 221,
      "outputs": []
    },
    {
      "cell_type": "markdown",
      "source": [
        "El grafo G contiene H un nodo"
      ],
      "metadata": {
        "id": "CcsUlcONIxto"
      }
    },
    {
      "cell_type": "code",
      "source": [
        "G.add_node(H)"
      ],
      "metadata": {
        "id": "h5KE6pGpIyCL"
      },
      "execution_count": 222,
      "outputs": []
    },
    {
      "cell_type": "markdown",
      "source": [
        "Para ver cómo se ve nuestro grafo, podemos imprimir los nodos y aristas que acabamos de agregar."
      ],
      "metadata": {
        "id": "f2FHjafjGchA"
      }
    },
    {
      "cell_type": "code",
      "source": [
        "# Imprime los nodos y aristas del grafo\n",
        "print(\"Nodos:\", G.nodes())\n",
        "print(\"Aristas:\", G.edges())"
      ],
      "metadata": {
        "colab": {
          "base_uri": "https://localhost:8080/"
        },
        "id": "7vavUhmCGi0H",
        "outputId": "409f7a86-ebdb-40c4-cb97-5050a706943e"
      },
      "execution_count": 223,
      "outputs": [
        {
          "output_type": "stream",
          "name": "stdout",
          "text": [
            "Nodos: [1, 2, 3, 4, 5, 0, 6, 7, 8, 9, <networkx.classes.graph.Graph object at 0x7c5c4a50f350>]\n",
            "Aristas: [(1, 2), (1, 3), (2, 4), (3, 4)]\n"
          ]
        }
      ]
    },
    {
      "cell_type": "markdown",
      "source": [
        "# Bordes"
      ],
      "metadata": {
        "id": "mgXSGQAnJJQ8"
      }
    },
    {
      "cell_type": "markdown",
      "source": [],
      "metadata": {
        "id": "UifNzZwvOlPx"
      }
    },
    {
      "cell_type": "markdown",
      "source": [
        "Los bordes, también llamados aristas, son las líneas que conectan los nodos en un grafo. Representan las relaciones o interacciones entre los objetos que los nodos representan. Hay varias formas de agregar bordes en NetworkX."
      ],
      "metadata": {
        "id": "nxaWDJxzJMb0"
      }
    },
    {
      "cell_type": "markdown",
      "source": [
        "Veamos que  G.add_edge(*e) es una forma de **agregar un borde entre los nodos** 2 y 3 sin escribir los números explícitamente en la función."
      ],
      "metadata": {
        "id": "ao0UH0kkOdgZ"
      }
    },
    {
      "cell_type": "code",
      "source": [
        "G.add_edge(1, 2)\n",
        "e = (2, 3)\n",
        "G.add_edge(*e)  # unpack edge tuple* o sea desempaqueta la tupla"
      ],
      "metadata": {
        "id": "Wy7D-6M-Jsma"
      },
      "execution_count": 202,
      "outputs": []
    },
    {
      "cell_type": "markdown",
      "source": [
        "Podemos tambien agregar una **lista de aristas**,asi como lo hicimos con los nodos."
      ],
      "metadata": {
        "id": "eeCp6snHOpzq"
      }
    },
    {
      "cell_type": "code",
      "source": [
        "G.add_edges_from([(1, 2), (1, 3)])"
      ],
      "metadata": {
        "id": "RELUQHM9OznC"
      },
      "execution_count": 203,
      "outputs": []
    },
    {
      "cell_type": "markdown",
      "source": [
        "Veamos ahora que si tenemos un grafo H con ciertas conexiones y queremos que el grafo G tenga exactamente las mismas, esta es la forma más rápida de hacerlo. Es como hacer un \"copiar y pegar\" de las conexiones de un grafo a otro."
      ],
      "metadata": {
        "id": "yrNoq_SyPJVI"
      }
    },
    {
      "cell_type": "code",
      "source": [
        "G.add_edges_from(H.edges)"
      ],
      "metadata": {
        "id": "zp6sOnvNRg2e"
      },
      "execution_count": 204,
      "outputs": []
    },
    {
      "cell_type": "markdown",
      "source": [
        "Ahora podemos ver una forma facil  para vaciar un grafo por completo."
      ],
      "metadata": {
        "id": "xhhKtxUFRuRJ"
      }
    },
    {
      "cell_type": "code",
      "source": [
        "G.clear()"
      ],
      "metadata": {
        "id": "4ZDlUmbeR7sS"
      },
      "execution_count": 205,
      "outputs": []
    },
    {
      "cell_type": "markdown",
      "source": [
        "Aqui creamos un objeto de **grafo dirigido**. A diferencia de un grafo normal, en un grafo dirigido las conexiones (bordes) tienen una dirección. Un borde de A a B no es lo mismo que un borde de B a A."
      ],
      "metadata": {
        "id": "v9DsFYmh6m69"
      }
    },
    {
      "cell_type": "code",
      "source": [
        "DG = nx.DiGraph()"
      ],
      "metadata": {
        "id": "msyU8fuC6yEo"
      },
      "execution_count": 206,
      "outputs": []
    },
    {
      "cell_type": "markdown",
      "source": [
        "Agregamos un borde que va del nodo 2 al nodo 1. El nodo 2 es el origen y el nodo 1 es el destino."
      ],
      "metadata": {
        "id": "X81V09Jm67Vm"
      }
    },
    {
      "cell_type": "code",
      "source": [
        "DG.add_edge(2, 1)"
      ],
      "metadata": {
        "id": "w3_ZEXj868SP"
      },
      "execution_count": 207,
      "outputs": []
    },
    {
      "cell_type": "markdown",
      "source": [
        "Se agrega un borde del nodo 1 al 3"
      ],
      "metadata": {
        "id": "wD09NjUm7CCU"
      }
    },
    {
      "cell_type": "code",
      "source": [
        "DG.add_edge(1, 3)"
      ],
      "metadata": {
        "id": "M5bbQW0A7CVy"
      },
      "execution_count": 208,
      "outputs": []
    },
    {
      "cell_type": "markdown",
      "source": [
        "Se agrega un borde del nodo 2 al 4"
      ],
      "metadata": {
        "id": "YWFqNTFK7Ldf"
      }
    },
    {
      "cell_type": "code",
      "source": [
        "DG.add_edge(2, 4)"
      ],
      "metadata": {
        "id": "IKmeTx-X7RuQ"
      },
      "execution_count": 209,
      "outputs": []
    },
    {
      "cell_type": "markdown",
      "source": [
        "Se agrega un borde del nodo 1 al 2"
      ],
      "metadata": {
        "id": "sf2FJjBC7W3U"
      }
    },
    {
      "cell_type": "code",
      "source": [
        "DG.add_edge(1, 2)"
      ],
      "metadata": {
        "id": "tK8ZUlCp7XN-"
      },
      "execution_count": 210,
      "outputs": []
    },
    {
      "cell_type": "markdown",
      "source": [
        " la palabra clave assert para verificar si el grafo es como se espera que sea. Si las condiciones dentro de assert son falsas, el programa se detiene con un error.\n",
        "\n",
        " DG.successors(2): Esta función te da una lista de todos los nodos a los que el nodo 2 se conecta.\n",
        "\n",
        "En el código, agregaste los bordes (2, 1) y (2, 4).\n",
        "\n",
        "Por lo tanto, los sucesores del nodo 2 son 1 y 4. La condición es verdadera y el programa continúa"
      ],
      "metadata": {
        "id": "kje-7dj47mLQ"
      }
    },
    {
      "cell_type": "code",
      "source": [
        "assert list(DG.successors(2)) == [1, 4]"
      ],
      "metadata": {
        "id": "-XjY3I5P7p1H"
      },
      "execution_count": 211,
      "outputs": []
    },
    {
      "cell_type": "markdown",
      "source": [
        "list(DG.edges): Esta función te da una lista de todos los bordes en el grafo, en el orden en que fueron creados.\n",
        "\n",
        "El orden es importante en un grafo dirigido. El borde (2, 1) es diferente al borde (1, 2).\n",
        "\n",
        "La lista generada [(2, 1), (2, 4), (1, 3), (1, 2)] coincide con la lista que se está probando, por lo que la condición es verdadera y el código no se detiene"
      ],
      "metadata": {
        "id": "L3hSI6YP7xOz"
      }
    },
    {
      "cell_type": "code",
      "source": [
        "assert list(DG.edges) == [(2, 1), (2, 4), (1, 3), (1, 2)]"
      ],
      "metadata": {
        "id": "FvS1Lya-7yBD"
      },
      "execution_count": 212,
      "outputs": []
    },
    {
      "cell_type": "markdown",
      "source": [
        "# Eliminar elementos\n"
      ],
      "metadata": {
        "id": "QxL0Mj_18DrW"
      }
    },
    {
      "cell_type": "markdown",
      "source": [
        "Podemos examinar los nodos y las aristas. Cuatro propiedades básicas de grafos facilitan la generación de informes: G.nodes, G.edges, G.adjy G.degree."
      ],
      "metadata": {
        "id": "CiTzjaEj8OyE"
      }
    },
    {
      "cell_type": "markdown",
      "source": [
        "veamos como podemos obtener informacion basica acerca del grafo."
      ],
      "metadata": {
        "id": "yQ8DYWGL89CC"
      }
    },
    {
      "cell_type": "markdown",
      "source": [
        "LISTAR NODOS Y BORDES"
      ],
      "metadata": {
        "id": "opStG88H9IB9"
      }
    },
    {
      "cell_type": "markdown",
      "source": [
        "Este comando devuelve una lista con todos los nodos del grafo. Los nodos son los puntos del grafo."
      ],
      "metadata": {
        "id": "fYbLjwmL9hhy"
      }
    },
    {
      "cell_type": "code",
      "source": [
        "list(G.nodes)"
      ],
      "metadata": {
        "colab": {
          "base_uri": "https://localhost:8080/"
        },
        "id": "FekVhZPp9iGO",
        "outputId": "72a07cf8-bb55-4d77-a697-97126cb4a81e"
      },
      "execution_count": 224,
      "outputs": [
        {
          "output_type": "execute_result",
          "data": {
            "text/plain": [
              "[1,\n",
              " 2,\n",
              " 3,\n",
              " 4,\n",
              " 5,\n",
              " 0,\n",
              " 6,\n",
              " 7,\n",
              " 8,\n",
              " 9,\n",
              " <networkx.classes.graph.Graph at 0x7c5c4a50f350>]"
            ]
          },
          "metadata": {},
          "execution_count": 224
        }
      ]
    },
    {
      "cell_type": "markdown",
      "source": [
        "De manera similar, este comando te muestra una lista con todos los bordes o aristas del grafo. Un borde se representa como una tupla que conecta dos nodos."
      ],
      "metadata": {
        "id": "S-gxfEz29k-m"
      }
    },
    {
      "cell_type": "code",
      "source": [
        "list(G.edges)"
      ],
      "metadata": {
        "colab": {
          "base_uri": "https://localhost:8080/"
        },
        "id": "gvYwvBRf9qeq",
        "outputId": "f778743b-9636-4409-c504-51c68a3a9d6c"
      },
      "execution_count": 225,
      "outputs": [
        {
          "output_type": "execute_result",
          "data": {
            "text/plain": [
              "[(1, 2), (1, 3), (2, 4), (3, 4)]"
            ]
          },
          "metadata": {},
          "execution_count": 225
        }
      ]
    },
    {
      "cell_type": "markdown",
      "source": [
        "OBTENER INFORMACION ESPECIFICA DEL GRAFO"
      ],
      "metadata": {
        "id": "UTex7KDF-sce"
      }
    },
    {
      "cell_type": "markdown",
      "source": [
        "G.adj es la abreviatura de \"adyacencia\", y es una forma común de acceder a los nodos conectados.\n",
        "\n",
        "G.neighbors() es una función que hace exactamente lo mismo."
      ],
      "metadata": {
        "id": "EGeBMWHP-6rq"
      }
    },
    {
      "cell_type": "code",
      "source": [
        "list(G.adj[1])  # or list(G.neighbors(1))"
      ],
      "metadata": {
        "colab": {
          "base_uri": "https://localhost:8080/"
        },
        "id": "HVQH0ky4_Hmx",
        "outputId": "cd29a11c-be26-4eec-e8e3-3b30ba856ee8"
      },
      "execution_count": 226,
      "outputs": [
        {
          "output_type": "execute_result",
          "data": {
            "text/plain": [
              "[2, 3]"
            ]
          },
          "metadata": {},
          "execution_count": 226
        }
      ]
    },
    {
      "cell_type": "markdown",
      "source": [
        "G.degree[1]: Esto te da el grado del nodo 1. El grado es el número total de bordes que están conectados a un nodo. En este caso, el nodo 1 tiene un borde que lo conecta al 2 y otro al 3. Como tiene dos conexiones, su grado es 2, que es lo que muestra la salida."
      ],
      "metadata": {
        "id": "GaU57MfH_0MS"
      }
    },
    {
      "cell_type": "code",
      "source": [
        "G.degree[1]"
      ],
      "metadata": {
        "colab": {
          "base_uri": "https://localhost:8080/"
        },
        "id": "Ee8-gVoU_7gA",
        "outputId": "6a6a0a41-f32d-4177-d9c7-af164ab194eb"
      },
      "execution_count": 227,
      "outputs": [
        {
          "output_type": "execute_result",
          "data": {
            "text/plain": [
              "2"
            ]
          },
          "metadata": {},
          "execution_count": 227
        }
      ]
    },
    {
      "cell_type": "markdown",
      "source": [
        "G.edges([2, 'm'])\n",
        "\n",
        "Esta línea te pide los bordes conectados a un conjunto de nodos específico"
      ],
      "metadata": {
        "id": "FdQVs7X7AK-3"
      }
    },
    {
      "cell_type": "code",
      "source": [
        "G.edges([2, 'm'])"
      ],
      "metadata": {
        "colab": {
          "base_uri": "https://localhost:8080/"
        },
        "id": "QiAM9taNA7LG",
        "outputId": "1675d869-3e29-4e9e-9c5f-adef17328205"
      },
      "execution_count": 228,
      "outputs": [
        {
          "output_type": "execute_result",
          "data": {
            "text/plain": [
              "EdgeDataView([(2, 1), (2, 4)])"
            ]
          },
          "metadata": {},
          "execution_count": 228
        }
      ]
    },
    {
      "cell_type": "markdown",
      "source": [
        "G.degree([2, 3])\n",
        "\n",
        "Esta línea te da el grado de varios nodos a la vez. El grado es la cantidad de bordes que tiene un nodo.\n",
        "\n",
        "\n",
        "El grado del nodo 2 es 1.\n",
        "\n",
        "El grado del nodo 3 es 2."
      ],
      "metadata": {
        "id": "yn9NVl5JA9Hc"
      }
    },
    {
      "cell_type": "code",
      "source": [
        "G.degree([2, 3])"
      ],
      "metadata": {
        "colab": {
          "base_uri": "https://localhost:8080/"
        },
        "id": "h_PqTIIyBIwQ",
        "outputId": "5a04e2ac-c0f2-46d9-9e57-dabfc406917b"
      },
      "execution_count": 229,
      "outputs": [
        {
          "output_type": "execute_result",
          "data": {
            "text/plain": [
              "DegreeView({2: 2, 3: 2})"
            ]
          },
          "metadata": {},
          "execution_count": 229
        }
      ]
    },
    {
      "cell_type": "markdown",
      "source": [
        "Ahora veamos que se pueden eliminar nodos y aristas del gráfico de forma similar a como se agregan. Usando los métodos Graph.remove_node(), Graph.remove_nodes_from(), Graph.remove_edge()y Graph.remove_edges_from()"
      ],
      "metadata": {
        "id": "1w-zwn2TBWmc"
      }
    },
    {
      "cell_type": "markdown",
      "source": [
        "# Grafos dirigidos"
      ],
      "metadata": {
        "id": "lGAcfbvIChuy"
      }
    },
    {
      "cell_type": "markdown",
      "source": [
        "La **DiGraphclase** proporciona métodos y propiedades adicionales específicos para los bordes dirigidos, por ejemplo, D**iGraph.out_edges, , DiGraph.in_degree, DiGraph.predecessors()** etc. DiGraph.successors()Para permitir que los algoritmos funcionen con ambas clases fácilmente, las versiones dirigidas de **neighborsson** equivalentes a successorsmientras que **DiGraph.degree** informan la suma de DiGraph.**in_degreey DiGraph.out_degree** aunque a veces eso pueda parecer inconsistente."
      ],
      "metadata": {
        "id": "1Wh95rrzCl6_"
      }
    },
    {
      "cell_type": "markdown",
      "source": [
        "creanmos un grafo dirigido (DiGraph), que es un tipo de grafo donde las conexiones tienen una dirección (como las calles de un solo sentido). Luego, usamos la función add_weighted_edges_from para agregar dos bordes con un atributo llamado 'weight' (peso).\n",
        "\n",
        "DG.add_weighted_edges_from([(1, 2, 0.5), (3, 1, 0.75)]): Esta línea añade dos bordes:\n",
        "\n",
        "Un borde del nodo 1 al nodo 2 con un peso de 0.5.\n",
        "\n",
        "Un borde del nodo 3 al nodo 1 con un peso de 0.75."
      ],
      "metadata": {
        "id": "h49Z-IhiJI-7"
      }
    },
    {
      "cell_type": "code",
      "source": [
        "DG = nx.DiGraph()\n",
        "DG.add_weighted_edges_from([(1, 2, 0.5), (3, 1, 0.75)])\n",
        "DG.out_degree(1, weight='weight')"
      ],
      "metadata": {
        "id": "PbjGDm7TI_l9"
      },
      "execution_count": null,
      "outputs": []
    },
    {
      "cell_type": "markdown",
      "source": [
        "DG.out_degree(1, weight='weight'):\n",
        "\n",
        "out_degree: Esto calcula el grado de salida del nodo 1, es decir, el número de bordes que salen de él.\n",
        "\n",
        "weight='weight': Este parámetro le dice a NetworkX que no solo cuente los bordes, sino que sume sus valores de peso."
      ],
      "metadata": {
        "id": "SXUT23O8JXEh"
      }
    },
    {
      "cell_type": "code",
      "source": [
        "DG.out_degree(1, weight='weight')"
      ],
      "metadata": {
        "id": "EOJLAUynJija"
      },
      "execution_count": null,
      "outputs": []
    },
    {
      "cell_type": "markdown",
      "source": [
        "DG.degree(1, weight='weight'):\n",
        "\n",
        "degree: Esto calcula el grado total del nodo 1, que es la suma de los bordes que entran y salen de él.\n",
        "\n",
        "weight='weight': Al igual que antes, esto suma los pesos de todos los bordes conectados al nodo 1."
      ],
      "metadata": {
        "id": "JQUuOwi6Jtbe"
      }
    },
    {
      "cell_type": "code",
      "source": [
        "DG.degree(1, weight='weight')"
      ],
      "metadata": {
        "id": "XCH78p-cJxKt"
      },
      "execution_count": null,
      "outputs": []
    },
    {
      "cell_type": "markdown",
      "source": [
        "list(DG.successors(1)):\n",
        "\n",
        "successors: Esta función te da una lista de los sucesores del nodo 1, que son los nodos a los que se puede llegar directamente a través de un borde que sale de él."
      ],
      "metadata": {
        "id": "JnYMKy9OJ0Mt"
      }
    },
    {
      "cell_type": "code",
      "source": [
        "list(DG.successors(1))"
      ],
      "metadata": {
        "colab": {
          "base_uri": "https://localhost:8080/"
        },
        "id": "eiv0n3vtJ41s",
        "outputId": "335de10c-ad7b-4459-caa7-80a2940b31d1"
      },
      "execution_count": 232,
      "outputs": [
        {
          "output_type": "execute_result",
          "data": {
            "text/plain": [
              "[3, 2]"
            ]
          },
          "metadata": {},
          "execution_count": 232
        }
      ]
    },
    {
      "cell_type": "markdown",
      "source": [
        "list(DG.neighbors(1)):\n",
        "\n",
        "neighbors: En un grafo dirigido, esta función es igual a successors(). También devuelve los nodos a los que se puede llegar a través de un borde saliente."
      ],
      "metadata": {
        "id": "7L5O4TblJ-rA"
      }
    },
    {
      "cell_type": "code",
      "source": [
        "list(DG.neighbors(1))"
      ],
      "metadata": {
        "id": "AbCbs7M1KAeo"
      },
      "execution_count": null,
      "outputs": []
    }
  ]
}