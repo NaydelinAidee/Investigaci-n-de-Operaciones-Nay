{
  "nbformat": 4,
  "nbformat_minor": 0,
  "metadata": {
    "colab": {
      "provenance": [],
      "authorship_tag": "ABX9TyNH54j/4zVE/VssgD0tbui3",
      "include_colab_link": true
    },
    "kernelspec": {
      "name": "python3",
      "display_name": "Python 3"
    },
    "language_info": {
      "name": "python"
    }
  },
  "cells": [
    {
      "cell_type": "markdown",
      "metadata": {
        "id": "view-in-github",
        "colab_type": "text"
      },
      "source": [
        "<a href=\"https://colab.research.google.com/github/NaydelinAidee/Investigaci-n-de-Operaciones-Nay/blob/main/Investigaci%C3%B3nOperaciones(Networkx).ipynb\" target=\"_parent\"><img src=\"https://colab.research.google.com/assets/colab-badge.svg\" alt=\"Open In Colab\"/></a>"
      ]
    },
    {
      "cell_type": "markdown",
      "source": [
        "# **MODELO DE REDES**\n",
        "Naydelin Aidee Carcamo Hernandez"
      ],
      "metadata": {
        "id": "XkaAfRWxcb_J"
      }
    },
    {
      "cell_type": "markdown",
      "source": [
        "Un modelo de red es un tipo de modelo de base de datos que representa datos y sus relaciones de forma flexible, como un grafo donde los objetos son nodos y las relaciones son arcos."
      ],
      "metadata": {
        "id": "g9Ij_vm_fhIz"
      }
    },
    {
      "cell_type": "markdown",
      "source": [
        "Para poder trabajar con modelo de redes existe NetworkX que  en Python sirve para crear, manipular, analizar y visualizar **grafos** y **redes** **complejas**. Es una herramienta fundamental para modelar y estudiar estructuras como redes sociales, biológicas o de infraestructura, facilitando la implementación de algoritmos de **análisis** **de** **grafos**, la adición de atributos a nodos y aristas, y la exportación de datos en diversos formatos.\n",
        "\n",
        "\n",
        "**Funciones** **principales** **de** **NetworkX**:\n",
        "\n",
        "〰️Creación de grafos:\n",
        "Permite construir grafos de forma programática, añadiendo nodos y aristas de manera individual o desde iterables.\n",
        "〰️Manipulación de grafos:\n",
        "Se pueden agregar y eliminar nodos y aristas, así como adjuntar atributos como pesos, etiquetas o colores a los elementos del grafo.\n",
        "\n",
        "〰️Análisis de redes:\n",
        "Ofrece una amplia gama de algoritmos para analizar la estructura y dinámica de las redes, incluyendo algoritmos para encontrar caminos más cortos.\n",
        "\n",
        "〰️Visualización de grafos:\n",
        "Se integra con bibliotecas como Matplotlib para visualizar los grafos de manera flexible y personalizable, permitiendo aplicar diferentes algoritmos de diseño para posicionar los nodos."
      ],
      "metadata": {
        "id": "BmAv7uWfhUZg"
      }
    },
    {
      "cell_type": "markdown",
      "source": [
        "**Veamos un poco de lo que nos permite hacer esta libreria para nuestro analisis de modelos de redes.**"
      ],
      "metadata": {
        "id": "IHOcjIVdi1Oe"
      }
    },
    {
      "cell_type": "markdown",
      "source": [
        "# Crear Graficos\n",
        "\n",
        "〰️Podemos crear graficos vacios sin nodos ni aristas,veamos como\n",
        "podemos hacerlo."
      ],
      "metadata": {
        "id": "AGqpnN4jjCo8"
      }
    },
    {
      "cell_type": "code",
      "source": [
        "import networkx as nx\n",
        "G = nx.Graph()#Un nodo Graph es una coleccion de nodos junto con aristas,enlaces,etc."
      ],
      "metadata": {
        "id": "A5ckk-K2C3Mi"
      },
      "execution_count": null,
      "outputs": []
    },
    {
      "cell_type": "markdown",
      "source": [
        "#Nodos"
      ],
      "metadata": {
        "id": "rlGYeeLXDchC"
      }
    },
    {
      "cell_type": "markdown",
      "source": [
        "Ahora hablemos de nodos,aqui podemos usar el grafo G que contiene bases para leer y escribir grafos."
      ],
      "metadata": {
        "id": "g3gASsGkC8n7"
      }
    },
    {
      "cell_type": "markdown",
      "source": [
        "Aqui podemos ir agregando de a un nodo a la vez. **add_node(1)**"
      ],
      "metadata": {
        "id": "9W60xcTBEkHF"
      }
    },
    {
      "cell_type": "code",
      "source": [
        "G.add_node(1)"
      ],
      "metadata": {
        "id": "ehIDRFZXEqMn"
      },
      "execution_count": null,
      "outputs": []
    },
    {
      "cell_type": "markdown",
      "source": [
        "Aqui podemos agregar una lista de nodos. **add_nodes_from([lista])**"
      ],
      "metadata": {
        "id": "T50SpB2HFQfJ"
      }
    },
    {
      "cell_type": "code",
      "source": [
        "G.add_nodes_from([2, 3, 4])"
      ],
      "metadata": {
        "id": "n7FV0CEMFQ7f"
      },
      "execution_count": null,
      "outputs": []
    },
    {
      "cell_type": "markdown",
      "source": [
        "Veamos que de esta forma podemos agregar aristas o sea nuestras conecciones. **add_edge(nodos a conectar)**"
      ],
      "metadata": {
        "id": "OA6VRDz8FZ__"
      }
    },
    {
      "cell_type": "code",
      "source": [
        "G.add_edge(1, 2)"
      ],
      "metadata": {
        "id": "0Gz-G9aOFiRJ"
      },
      "execution_count": null,
      "outputs": []
    },
    {
      "cell_type": "markdown",
      "source": [
        "Aqui podemos agregar una lista de aristas."
      ],
      "metadata": {
        "id": "cSVrPd_UGKrE"
      }
    },
    {
      "cell_type": "code",
      "source": [
        "G.add_edges_from([(1, 3), (2, 4), (3, 4)]) # Agrega una lista de aristas"
      ],
      "metadata": {
        "id": "pSlxSHsfGQOS"
      },
      "execution_count": null,
      "outputs": []
    },
    {
      "cell_type": "markdown",
      "source": [
        "Ahora veamos que podemos ir agregando múltiples nodos a la vez: La función add_nodes_from() se usa para añadir varios nodos a un grafo (que en este caso se llama G).\n",
        "\n",
        "Añadiendo atributos a los nodos: A diferencia de simplemente agregar un número, aquí estamos agregando información extra a cada nodo. A esta información se le llama atributo.\n",
        "\n",
        "El primer elemento (4, {\"color\": \"red\"}) crea un nodo con el número 4 y le asigna un atributo llamado \"color\" con el valor \"red\".\n",
        "\n",
        "El segundo elemento (5, {\"color\": \"green\"}) crea un nodo con el número 5 y le asigna un atributo \"color\" con el valor \"green\"."
      ],
      "metadata": {
        "id": "GRANi1_CHc-N"
      }
    },
    {
      "cell_type": "code",
      "source": [
        "G.add_nodes_from([(4, {\"color\": \"red\"}), (5, {\"color\": \"green\"})])"
      ],
      "metadata": {
        "id": "ZZ7ax5RgHfEe"
      },
      "execution_count": null,
      "outputs": []
    },
    {
      "cell_type": "markdown",
      "source": [
        "Tambien podemos poner nodos de un grafico a otro es decir G contiene los nodos de H como nodos de G. ahora, podemos usar el gráfico H como un nodo en G."
      ],
      "metadata": {
        "id": "OKQA5NKbH2Fq"
      }
    },
    {
      "cell_type": "code",
      "source": [
        "H = nx.path_graph(10)\n",
        "G.add_nodes_from(H)"
      ],
      "metadata": {
        "id": "25A0SFD6ICtk"
      },
      "execution_count": null,
      "outputs": []
    },
    {
      "cell_type": "markdown",
      "source": [
        "El grafo G contiene H un nodo"
      ],
      "metadata": {
        "id": "CcsUlcONIxto"
      }
    },
    {
      "cell_type": "code",
      "source": [
        "G.add_node(H)"
      ],
      "metadata": {
        "id": "h5KE6pGpIyCL"
      },
      "execution_count": null,
      "outputs": []
    },
    {
      "cell_type": "markdown",
      "source": [
        "Para ver cómo se ve nuestro grafo, podemos imprimir los nodos y aristas que acabamos de agregar."
      ],
      "metadata": {
        "id": "f2FHjafjGchA"
      }
    },
    {
      "cell_type": "code",
      "source": [
        "# Imprime los nodos y aristas del grafo\n",
        "print(\"Nodos:\", G.nodes())\n",
        "print(\"Aristas:\", G.edges())"
      ],
      "metadata": {
        "colab": {
          "base_uri": "https://localhost:8080/"
        },
        "id": "7vavUhmCGi0H",
        "outputId": "e754b45e-0bbc-4594-e2f5-7b033b0b79ae"
      },
      "execution_count": null,
      "outputs": [
        {
          "output_type": "stream",
          "name": "stdout",
          "text": [
            "Nodos: [1, 2, 3, 4, 5, 0, 6, 7, 8, 9, <networkx.classes.graph.Graph object at 0x7cd5b30bd610>]\n",
            "Aristas: [(1, 2), (1, 3), (2, 4), (3, 4)]\n"
          ]
        }
      ]
    },
    {
      "cell_type": "markdown",
      "source": [
        "# Bordes"
      ],
      "metadata": {
        "id": "mgXSGQAnJJQ8"
      }
    },
    {
      "cell_type": "markdown",
      "source": [
        "Los bordes, también llamados aristas, son las líneas que conectan los nodos en un grafo. Representan las relaciones o interacciones entre los objetos que los nodos representan. Hay varias formas de agregar bordes en NetworkX."
      ],
      "metadata": {
        "id": "nxaWDJxzJMb0"
      }
    },
    {
      "cell_type": "markdown",
      "source": [
        "Existen tres formas principales de añadir bordes a un grafo en NetworkX:\n"
      ],
      "metadata": {
        "id": "clWh0A4qJa5V"
      }
    },
    {
      "cell_type": "markdown",
      "source": [
        "Añadir un solo borde: Usando G.add_edge(). Esta función toma los dos nodos que queremos conectar."
      ],
      "metadata": {
        "id": "oBbq-TL8Jo_8"
      }
    },
    {
      "cell_type": "code",
      "source": [],
      "metadata": {
        "id": "Wy7D-6M-Jsma"
      },
      "execution_count": null,
      "outputs": []
    }
  ]
}